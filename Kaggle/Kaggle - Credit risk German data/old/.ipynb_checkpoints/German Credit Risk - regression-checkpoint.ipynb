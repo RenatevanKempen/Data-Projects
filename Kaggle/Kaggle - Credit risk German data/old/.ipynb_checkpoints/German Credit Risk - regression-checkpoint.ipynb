{
 "cells": [
  {
   "cell_type": "markdown",
   "metadata": {},
   "source": [
    "![BAIME banner](https://user-images.githubusercontent.com/47600826/89530907-9b3f6480-d7ef-11ea-9849-27617f6025cf.png)"
   ]
  },
  {
   "cell_type": "markdown",
   "metadata": {},
   "source": [
    "# Prediction Credit Risk"
   ]
  },
  {
   "cell_type": "markdown",
   "metadata": {},
   "source": [
    "![credit risk score](https://lh3.googleusercontent.com/proxy/FFZaDEN6DnV9eU-r0dP0qyry5CCS6nqZptUAPuQr3zmG0roO3AYC9sNekOhD9qOhGCUuqjYmLe49yhYCz96gEx5uK0qS3_ro2J74el4rMLIyi5j7Z0wE90WoMV_buPh9C2j8FD2zUXNPOdTdUuCX5j4P8CITX7UU6sNw9gJTJTgnCCQ6AZxT3Tie0TsGFhtQId_LxDk)"
   ]
  },
  {
   "cell_type": "markdown",
   "metadata": {
    "persistent_id": "91cfa275-2ee3-42a5-b635-e60faf4e6ce5"
   },
   "source": [
    "## The problem\n",
    "In this notebook we look at the data we got via this [Kaggle competition](https://www.kaggle.com/uciml/german-credit). \n",
    "\n",
    "We will see if we can predict whether or not the credit score is good. \n",
    "\n",
    "We will explore the dataset given, check the various features we have and we will make an algorithm that can predict the credit risk."
   ]
  },
  {
   "cell_type": "markdown",
   "metadata": {},
   "source": [
    "# Import the important libraries / packages\n",
    "These packages are needed to load and use the dataset"
   ]
  },
  {
   "cell_type": "code",
   "execution_count": 1,
   "metadata": {
    "execution_event_id": "85d2b016-2d5d-4f12-b537-68faf23639c5",
    "last_executed_text": "#Load the packages\nimport pandas as pd #we use this to load, read and transform the dataset\nimport numpy as np #we use this for statistical analysis\nimport matplotlib.pyplot as plt #we use this to visualize the dataset\nimport seaborn as sns #we use this to make countplots\nimport sklearn.metrics as sklm #This is to test the models\n\n",
    "persistent_id": "6c91a061-759c-432c-9b9d-35aa0f50ea6f"
   },
   "outputs": [],
   "source": [
    "#Load the packages\n",
    "import pandas as pd #we use this to load, read and transform the dataset\n",
    "import numpy as np #we use this for statistical analysis\n",
    "import matplotlib.pyplot as plt #we use this to visualize the dataset\n",
    "import seaborn as sns #we use this to make countplots\n",
    "import sklearn.metrics as sklm #This is to test the models\n",
    "\n"
   ]
  },
  {
   "cell_type": "markdown",
   "metadata": {},
   "source": [
    "# Load and explore the dataset\n",
    "We've gotten a dataset. In this next step I will first load the data set to see how this looks like"
   ]
  },
  {
   "cell_type": "code",
   "execution_count": 4,
   "metadata": {
    "execution_event_id": "6bd68b06-57c4-4227-9840-aa6970660357",
    "last_executed_text": "#here we load the data\ndata = pd.read_csv(r'C:\\Users\\Renate\\Documents\\GitHub\\Data-Projects\\Kaggle\\Kaggle - Credit risk German data\\german_credit_data_withlabel.csv', index_col = 0)\n\n#and immediately I would like to see how this dataset looks like\ndata.head()",
    "persistent_id": "8a811c20-cb81-45d3-82cb-e64813ecabdc"
   },
   "outputs": [
    {
     "data": {
      "text/html": [
       "<div>\n",
       "<style scoped>\n",
       "    .dataframe tbody tr th:only-of-type {\n",
       "        vertical-align: middle;\n",
       "    }\n",
       "\n",
       "    .dataframe tbody tr th {\n",
       "        vertical-align: top;\n",
       "    }\n",
       "\n",
       "    .dataframe thead th {\n",
       "        text-align: right;\n",
       "    }\n",
       "</style>\n",
       "<table border=\"1\" class=\"dataframe\">\n",
       "  <thead>\n",
       "    <tr style=\"text-align: right;\">\n",
       "      <th></th>\n",
       "      <th>Age</th>\n",
       "      <th>Sex</th>\n",
       "      <th>Job</th>\n",
       "      <th>Housing</th>\n",
       "      <th>Saving accounts</th>\n",
       "      <th>Checking account</th>\n",
       "      <th>Credit amount</th>\n",
       "      <th>Duration</th>\n",
       "      <th>Purpose</th>\n",
       "      <th>Risk</th>\n",
       "    </tr>\n",
       "  </thead>\n",
       "  <tbody>\n",
       "    <tr>\n",
       "      <th>0</th>\n",
       "      <td>67</td>\n",
       "      <td>male</td>\n",
       "      <td>2</td>\n",
       "      <td>own</td>\n",
       "      <td>NaN</td>\n",
       "      <td>little</td>\n",
       "      <td>1169</td>\n",
       "      <td>6</td>\n",
       "      <td>radio/TV</td>\n",
       "      <td>good</td>\n",
       "    </tr>\n",
       "    <tr>\n",
       "      <th>1</th>\n",
       "      <td>22</td>\n",
       "      <td>female</td>\n",
       "      <td>2</td>\n",
       "      <td>own</td>\n",
       "      <td>little</td>\n",
       "      <td>moderate</td>\n",
       "      <td>5951</td>\n",
       "      <td>48</td>\n",
       "      <td>radio/TV</td>\n",
       "      <td>bad</td>\n",
       "    </tr>\n",
       "    <tr>\n",
       "      <th>2</th>\n",
       "      <td>49</td>\n",
       "      <td>male</td>\n",
       "      <td>1</td>\n",
       "      <td>own</td>\n",
       "      <td>little</td>\n",
       "      <td>NaN</td>\n",
       "      <td>2096</td>\n",
       "      <td>12</td>\n",
       "      <td>education</td>\n",
       "      <td>good</td>\n",
       "    </tr>\n",
       "    <tr>\n",
       "      <th>3</th>\n",
       "      <td>45</td>\n",
       "      <td>male</td>\n",
       "      <td>2</td>\n",
       "      <td>free</td>\n",
       "      <td>little</td>\n",
       "      <td>little</td>\n",
       "      <td>7882</td>\n",
       "      <td>42</td>\n",
       "      <td>furniture/equipment</td>\n",
       "      <td>good</td>\n",
       "    </tr>\n",
       "    <tr>\n",
       "      <th>4</th>\n",
       "      <td>53</td>\n",
       "      <td>male</td>\n",
       "      <td>2</td>\n",
       "      <td>free</td>\n",
       "      <td>little</td>\n",
       "      <td>little</td>\n",
       "      <td>4870</td>\n",
       "      <td>24</td>\n",
       "      <td>car</td>\n",
       "      <td>bad</td>\n",
       "    </tr>\n",
       "  </tbody>\n",
       "</table>\n",
       "</div>"
      ],
      "text/plain": [
       "   Age     Sex  Job Housing Saving accounts Checking account  Credit amount  \\\n",
       "0   67    male    2     own             NaN           little           1169   \n",
       "1   22  female    2     own          little         moderate           5951   \n",
       "2   49    male    1     own          little              NaN           2096   \n",
       "3   45    male    2    free          little           little           7882   \n",
       "4   53    male    2    free          little           little           4870   \n",
       "\n",
       "   Duration              Purpose  Risk  \n",
       "0         6             radio/TV  good  \n",
       "1        48             radio/TV   bad  \n",
       "2        12            education  good  \n",
       "3        42  furniture/equipment  good  \n",
       "4        24                  car   bad  "
      ]
     },
     "execution_count": 4,
     "metadata": {},
     "output_type": "execute_result"
    }
   ],
   "source": [
    "#here we load the data\n",
    "data = pd.read_csv(r'C:\\Users\\Renate\\Documents\\GitHub\\Data-Projects\\Kaggle\\Kaggle - Credit risk German data\\german_credit_data_withlabel.csv', index_col = 0)\n",
    "\n",
    "#and immediately I would like to see how this dataset looks like\n",
    "data.head()"
   ]
  },
  {
   "cell_type": "code",
   "execution_count": 5,
   "metadata": {
    "execution_event_id": "2641fc95-508f-41bf-b06d-5341b6c531ea",
    "last_executed_text": "#now let's look closer at the dataset we got\ndata.info()",
    "persistent_id": "6c7747b1-fe18-42f8-9f05-421119d2e624"
   },
   "outputs": [
    {
     "name": "stdout",
     "output_type": "stream",
     "text": [
      "<class 'pandas.core.frame.DataFrame'>\n",
      "Int64Index: 1000 entries, 0 to 999\n",
      "Data columns (total 10 columns):\n",
      " #   Column            Non-Null Count  Dtype \n",
      "---  ------            --------------  ----- \n",
      " 0   Age               1000 non-null   int64 \n",
      " 1   Sex               1000 non-null   object\n",
      " 2   Job               1000 non-null   int64 \n",
      " 3   Housing           1000 non-null   object\n",
      " 4   Saving accounts   817 non-null    object\n",
      " 5   Checking account  606 non-null    object\n",
      " 6   Credit amount     1000 non-null   int64 \n",
      " 7   Duration          1000 non-null   int64 \n",
      " 8   Purpose           1000 non-null   object\n",
      " 9   Risk              1000 non-null   object\n",
      "dtypes: int64(4), object(6)\n",
      "memory usage: 85.9+ KB\n"
     ]
    }
   ],
   "source": [
    "#now let's look closer at the dataset we got\n",
    "data.info()"
   ]
  },
  {
   "cell_type": "markdown",
   "metadata": {
    "persistent_id": "344670b7-21d7-4ef2-b641-ba5d1dba5239"
   },
   "source": [
    "It seems that we have a lot of text / category information (these are of the Dtype 'object') and a few numerical columns (Dtypes 'int64').\n",
    "\n",
    "The following columns have missing data: \n",
    "- Saving accounts\n",
    "- Checking account\n",
    "\n",
    "The last column 'Risk' is the column we would like to predict. "
   ]
  },
  {
   "cell_type": "code",
   "execution_count": 6,
   "metadata": {
    "execution_event_id": "f5604158-2603-49c9-9501-249a6150bf1a",
    "last_executed_text": "data.shape",
    "persistent_id": "daabff9b-0c6a-4ab6-95cf-fb952d03d8fd"
   },
   "outputs": [
    {
     "data": {
      "text/plain": [
       "(1000, 10)"
      ]
     },
     "execution_count": 6,
     "metadata": {},
     "output_type": "execute_result"
    }
   ],
   "source": [
    "data.shape"
   ]
  },
  {
   "cell_type": "markdown",
   "metadata": {
    "execution_event_id": "07b37251-ba7a-4985-bf17-09227f783fd2",
    "last_executed_text": "The dataset consists of 1.000 rows and 10 columns. ",
    "persistent_id": "2d6abb5f-de05-467d-a2e8-5eb8c0f54eb7"
   },
   "source": [
    "The dataset consists of 1.000 rows and 10 columns. "
   ]
  },
  {
   "cell_type": "code",
   "execution_count": 8,
   "metadata": {
    "execution_event_id": "f692fecb-44d5-432e-b1f4-29e4c6d6691e",
    "last_executed_text": "data.describe()",
    "persistent_id": "db533125-1897-4c67-8e01-cef3f2badaa5"
   },
   "outputs": [
    {
     "data": {
      "text/html": [
       "<div>\n",
       "<style scoped>\n",
       "    .dataframe tbody tr th:only-of-type {\n",
       "        vertical-align: middle;\n",
       "    }\n",
       "\n",
       "    .dataframe tbody tr th {\n",
       "        vertical-align: top;\n",
       "    }\n",
       "\n",
       "    .dataframe thead th {\n",
       "        text-align: right;\n",
       "    }\n",
       "</style>\n",
       "<table border=\"1\" class=\"dataframe\">\n",
       "  <thead>\n",
       "    <tr style=\"text-align: right;\">\n",
       "      <th></th>\n",
       "      <th>Age</th>\n",
       "      <th>Job</th>\n",
       "      <th>Credit amount</th>\n",
       "      <th>Duration</th>\n",
       "    </tr>\n",
       "  </thead>\n",
       "  <tbody>\n",
       "    <tr>\n",
       "      <th>count</th>\n",
       "      <td>1000.000000</td>\n",
       "      <td>1000.000000</td>\n",
       "      <td>1000.000000</td>\n",
       "      <td>1000.000000</td>\n",
       "    </tr>\n",
       "    <tr>\n",
       "      <th>mean</th>\n",
       "      <td>35.546000</td>\n",
       "      <td>1.904000</td>\n",
       "      <td>3271.258000</td>\n",
       "      <td>20.903000</td>\n",
       "    </tr>\n",
       "    <tr>\n",
       "      <th>std</th>\n",
       "      <td>11.375469</td>\n",
       "      <td>0.653614</td>\n",
       "      <td>2822.736876</td>\n",
       "      <td>12.058814</td>\n",
       "    </tr>\n",
       "    <tr>\n",
       "      <th>min</th>\n",
       "      <td>19.000000</td>\n",
       "      <td>0.000000</td>\n",
       "      <td>250.000000</td>\n",
       "      <td>4.000000</td>\n",
       "    </tr>\n",
       "    <tr>\n",
       "      <th>25%</th>\n",
       "      <td>27.000000</td>\n",
       "      <td>2.000000</td>\n",
       "      <td>1365.500000</td>\n",
       "      <td>12.000000</td>\n",
       "    </tr>\n",
       "    <tr>\n",
       "      <th>50%</th>\n",
       "      <td>33.000000</td>\n",
       "      <td>2.000000</td>\n",
       "      <td>2319.500000</td>\n",
       "      <td>18.000000</td>\n",
       "    </tr>\n",
       "    <tr>\n",
       "      <th>75%</th>\n",
       "      <td>42.000000</td>\n",
       "      <td>2.000000</td>\n",
       "      <td>3972.250000</td>\n",
       "      <td>24.000000</td>\n",
       "    </tr>\n",
       "    <tr>\n",
       "      <th>max</th>\n",
       "      <td>75.000000</td>\n",
       "      <td>3.000000</td>\n",
       "      <td>18424.000000</td>\n",
       "      <td>72.000000</td>\n",
       "    </tr>\n",
       "  </tbody>\n",
       "</table>\n",
       "</div>"
      ],
      "text/plain": [
       "               Age          Job  Credit amount     Duration\n",
       "count  1000.000000  1000.000000    1000.000000  1000.000000\n",
       "mean     35.546000     1.904000    3271.258000    20.903000\n",
       "std      11.375469     0.653614    2822.736876    12.058814\n",
       "min      19.000000     0.000000     250.000000     4.000000\n",
       "25%      27.000000     2.000000    1365.500000    12.000000\n",
       "50%      33.000000     2.000000    2319.500000    18.000000\n",
       "75%      42.000000     2.000000    3972.250000    24.000000\n",
       "max      75.000000     3.000000   18424.000000    72.000000"
      ]
     },
     "execution_count": 8,
     "metadata": {},
     "output_type": "execute_result"
    }
   ],
   "source": [
    "data.describe()"
   ]
  },
  {
   "cell_type": "markdown",
   "metadata": {
    "persistent_id": "0d79dce7-c026-4d05-8379-d813ae1fb077"
   },
   "source": [
    "It seems that we have some outliers for the credit amount and duration. We will look and handle these later on. "
   ]
  },
  {
   "cell_type": "code",
   "execution_count": 9,
   "metadata": {
    "execution_event_id": "9e764749-f2c8-4c44-ab37-dace46f00f3e",
    "last_executed_text": "data.describe(include='O')",
    "persistent_id": "376bc593-94fb-4d8a-8883-7894a45b5e9f"
   },
   "outputs": [
    {
     "data": {
      "text/html": [
       "<div>\n",
       "<style scoped>\n",
       "    .dataframe tbody tr th:only-of-type {\n",
       "        vertical-align: middle;\n",
       "    }\n",
       "\n",
       "    .dataframe tbody tr th {\n",
       "        vertical-align: top;\n",
       "    }\n",
       "\n",
       "    .dataframe thead th {\n",
       "        text-align: right;\n",
       "    }\n",
       "</style>\n",
       "<table border=\"1\" class=\"dataframe\">\n",
       "  <thead>\n",
       "    <tr style=\"text-align: right;\">\n",
       "      <th></th>\n",
       "      <th>Sex</th>\n",
       "      <th>Housing</th>\n",
       "      <th>Saving accounts</th>\n",
       "      <th>Checking account</th>\n",
       "      <th>Purpose</th>\n",
       "      <th>Risk</th>\n",
       "    </tr>\n",
       "  </thead>\n",
       "  <tbody>\n",
       "    <tr>\n",
       "      <th>count</th>\n",
       "      <td>1000</td>\n",
       "      <td>1000</td>\n",
       "      <td>817</td>\n",
       "      <td>606</td>\n",
       "      <td>1000</td>\n",
       "      <td>1000</td>\n",
       "    </tr>\n",
       "    <tr>\n",
       "      <th>unique</th>\n",
       "      <td>2</td>\n",
       "      <td>3</td>\n",
       "      <td>4</td>\n",
       "      <td>3</td>\n",
       "      <td>8</td>\n",
       "      <td>2</td>\n",
       "    </tr>\n",
       "    <tr>\n",
       "      <th>top</th>\n",
       "      <td>male</td>\n",
       "      <td>own</td>\n",
       "      <td>little</td>\n",
       "      <td>little</td>\n",
       "      <td>car</td>\n",
       "      <td>good</td>\n",
       "    </tr>\n",
       "    <tr>\n",
       "      <th>freq</th>\n",
       "      <td>690</td>\n",
       "      <td>713</td>\n",
       "      <td>603</td>\n",
       "      <td>274</td>\n",
       "      <td>337</td>\n",
       "      <td>700</td>\n",
       "    </tr>\n",
       "  </tbody>\n",
       "</table>\n",
       "</div>"
      ],
      "text/plain": [
       "         Sex Housing Saving accounts Checking account Purpose  Risk\n",
       "count   1000    1000             817              606    1000  1000\n",
       "unique     2       3               4                3       8     2\n",
       "top     male     own          little           little     car  good\n",
       "freq     690     713             603              274     337   700"
      ]
     },
     "execution_count": 9,
     "metadata": {},
     "output_type": "execute_result"
    }
   ],
   "source": [
    "data.describe(include='O')"
   ]
  },
  {
   "cell_type": "code",
   "execution_count": 10,
   "metadata": {
    "execution_event_id": "ea213396-5e43-4c84-9c86-205ce774e86e",
    "last_executed_text": "#Let's see what the options are in the text columns (the objects)\nprint(data.nunique())",
    "persistent_id": "c66ad67e-6b1e-4bf9-8d8a-fb306c5167fc"
   },
   "outputs": [
    {
     "name": "stdout",
     "output_type": "stream",
     "text": [
      "Age                  53\n",
      "Sex                   2\n",
      "Job                   4\n",
      "Housing               3\n",
      "Saving accounts       4\n",
      "Checking account      3\n",
      "Credit amount       921\n",
      "Duration             33\n",
      "Purpose               8\n",
      "Risk                  2\n",
      "dtype: int64\n"
     ]
    }
   ],
   "source": [
    "#Let's see what the options are in the text columns (the objects)\n",
    "print(data.nunique())"
   ]
  },
  {
   "cell_type": "markdown",
   "metadata": {},
   "source": [
    "Seems there are more categorical columns, let's look closer at the different columns"
   ]
  },
  {
   "cell_type": "markdown",
   "metadata": {},
   "source": [
    "# Credit risk in the dataset\n",
    "As this is the column we would like to predict, let's look closer to this column. \n"
   ]
  },
  {
   "cell_type": "code",
   "execution_count": 11,
   "metadata": {
    "execution_event_id": "64f87aba-dc83-47f7-a7f1-815c5337ac38",
    "last_executed_text": "#first let's count the good and bad risks\nGood = data[data['Risk'] == 'good']['Risk'].count()\nBad = data[data['Risk'] == 'bad']['Risk'].count()\n\n#now let's put these results in a dataframe to visualize them\ndf = {\"Count\" : [Good, Bad]} #this is for the legend to be clear that it is counts\nStatus = pd.DataFrame(df, index=[\"Good\", \"Bas\"])\n\n#let's visualize the bar plot\nax = Status.plot(kind = 'bar', title = 'Credit Risks')\n\n#here I want to add the labels to the bars and to make this more clear I've made them white of color\nfor p in ax.patches:\n    ax.annotate(str(p.get_height()), (p.get_x() + p.get_width() / 2, p.get_height() - 30), color = 'white', fontweight = 'bold')",
    "persistent_id": "bfbd12f3-85d3-4b4f-925f-e080ae4a7d6f"
   },
   "outputs": [
    {
     "data": {
      "image/png": "[encoded data removed]",
      "text/plain": [
       "<Figure size 432x288 with 1 Axes>"
      ]
     },
     "metadata": {
      "needs_background": "light"
     },
     "output_type": "display_data"
    }
   ],
   "source": [
    "#first let's count the good and bad risks\n",
    "Good = data[data['Risk'] == 'good']['Risk'].count()\n",
    "Bad = data[data['Risk'] == 'bad']['Risk'].count()\n",
    "\n",
    "#now let's put these results in a dataframe to visualize them\n",
    "df = {\"Count\" : [Good, Bad]} #this is for the legend to be clear that it is counts\n",
    "Status = pd.DataFrame(df, index=[\"Good\", \"Bas\"])\n",
    "\n",
    "#let's visualize the bar plot\n",
    "ax = Status.plot(kind = 'bar', title = 'Credit Risks')\n",
    "\n",
    "#here I want to add the labels to the bars and to make this more clear I've made them white of color\n",
    "for p in ax.patches:\n",
    "    ax.annotate(str(p.get_height()), (p.get_x() + p.get_width() / 2, p.get_height() - 30), color = 'white', fontweight = 'bold')"
   ]
  },
  {
   "cell_type": "code",
   "execution_count": 12,
   "metadata": {
    "execution_event_id": "a33631e6-5d87-4a88-bbec-c828f895f2bb",
    "last_executed_text": "#let's see the percentages of the risks:\nprint('The percentage of good risks : %.2f' % (data['Risk'].value_counts()[0] / len(data)))\nprint('The percentage of bad risks : %.2f' % (data['Risk'].value_counts()[1] / len(data)))",
    "persistent_id": "b1e71c8b-13fc-4532-80c2-f2b03e7d7afe"
   },
   "outputs": [
    {
     "name": "stdout",
     "output_type": "stream",
     "text": [
      "The percentage of good risks : 0.70\n",
      "The percentage of bad risks : 0.30\n"
     ]
    }
   ],
   "source": [
    "#let's see the percentages of the risks:\n",
    "print('The percentage of good risks : %.2f' % (data['Risk'].value_counts()[0] / len(data)))\n",
    "print('The percentage of bad risks : %.2f' % (data['Risk'].value_counts()[1] / len(data)))"
   ]
  },
  {
   "cell_type": "markdown",
   "metadata": {
    "persistent_id": "db66dae1-dde3-4ac1-9c81-a89550bbc569"
   },
   "source": [
    "It looks like this is not well balanced in this set.\n",
    "But as this is the only data we have, I will leave this as is for now. "
   ]
  },
  {
   "cell_type": "markdown",
   "metadata": {
    "persistent_id": "f56eb869-8005-4f7b-8ee8-93a8ba63c6be"
   },
   "source": [
    "# Handling missing values\n",
    "Let's continue with handling the missing values in this dataset. "
   ]
  },
  {
   "cell_type": "code",
   "execution_count": 13,
   "metadata": {
    "execution_event_id": "affa325d-eca4-455e-8a1e-f554601485d9",
    "last_executed_text": "#let's look in what columns there are missing values \ndata.isnull().sum().sort_values(ascending = False)",
    "persistent_id": "49be5e46-fd64-4224-9943-ada2c65a8a23"
   },
   "outputs": [
    {
     "data": {
      "text/plain": [
       "Checking account    394\n",
       "Saving accounts     183\n",
       "Risk                  0\n",
       "Purpose               0\n",
       "Duration              0\n",
       "Credit amount         0\n",
       "Housing               0\n",
       "Job                   0\n",
       "Sex                   0\n",
       "Age                   0\n",
       "dtype: int64"
      ]
     },
     "execution_count": 13,
     "metadata": {},
     "output_type": "execute_result"
    }
   ],
   "source": [
    "#let's look in what columns there are missing values \n",
    "data.isnull().sum().sort_values(ascending = False)"
   ]
  },
  {
   "cell_type": "code",
   "execution_count": 14,
   "metadata": {
    "execution_event_id": "990d3f07-06bd-417c-9150-9b24325e2544",
    "last_executed_text": "#Let's look at the Checking account in more detail to see what the best way is to handle these missing values\n#I will use seaborn for the visualization\nsns.countplot(data['Risk'],hue=data['Checking account'])",
    "persistent_id": "0d50f11f-84a4-4be4-8ab2-8f0df86f4796"
   },
   "outputs": [
    {
     "data": {
      "text/plain": [
       "<matplotlib.axes._subplots.AxesSubplot at 0x283db8e6198>"
      ]
     },
     "execution_count": 14,
     "metadata": {},
     "output_type": "execute_result"
    },
    {
     "data": {
      "image/png": "[encoded data removed]",
      "text/plain": [
       "<Figure size 432x288 with 1 Axes>"
      ]
     },
     "metadata": {
      "needs_background": "light"
     },
     "output_type": "display_data"
    }
   ],
   "source": [
    "#Let's look at the Checking account in more detail to see what the best way is to handle these missing values\n",
    "#I will use seaborn for the visualization\n",
    "sns.countplot(data['Risk'],hue=data['Checking account'])"
   ]
  },
  {
   "cell_type": "code",
   "execution_count": 15,
   "metadata": {
    "execution_event_id": "4b0135b0-3b45-40d1-bb80-bf9a12a2126b",
    "last_executed_text": "print(pd.crosstab(data['Checking account'],data['Risk']))",
    "persistent_id": "b44e7bb1-650e-48f4-94f9-a2c798932713"
   },
   "outputs": [
    {
     "name": "stdout",
     "output_type": "stream",
     "text": [
      "Risk              bad  good\n",
      "Checking account           \n",
      "little            135   139\n",
      "moderate          105   164\n",
      "rich               14    49\n"
     ]
    }
   ],
   "source": [
    "print(pd.crosstab(data['Checking account'],data['Risk']))"
   ]
  },
  {
   "cell_type": "markdown",
   "metadata": {
    "persistent_id": "eecfa4a5-9b19-4b8c-8d8c-11527eeb9cdf"
   },
   "source": [
    "It seems that it might have no influence to whether or not a risk is good or bad, as for little the counts are the same and for moderate the counts are in favor of bad risk and for rich this lies 22% - 78% balance. "
   ]
  },
  {
   "cell_type": "markdown",
   "metadata": {
    "persistent_id": "1fd64ee6-f72d-43e5-8197-26c64dbb01e3"
   },
   "source": [
    "Options in handling these missing values:\n",
    "- Drop all the rows with missing values\n",
    "- Handle the missing values with \"no_info\" (so no checking account) as there is nothing clear. \n",
    "- We assign the missing values to its nearest neighbors\n",
    "- Or we ignore this as a good feature and drop this column\n",
    "\n",
    "In this case, I tend to go for the most frequent number, as this is 86% of the dataset, so most likely to be true."
   ]
  }
 ],
 "metadata": {
  "history": [
   {
    "cell": {
     "executionCount": 1,
     "executionEventId": "85d2b016-2d5d-4f12-b537-68faf23639c5",
     "hasError": false,
     "id": "584169d4-4070-441a-a530-926d5ed47fcf",
     "outputs": [],
     "persistentId": "6c91a061-759c-432c-9b9d-35aa0f50ea6f",
     "text": "#Load the packages\nimport pandas as pd #we use this to load, read and transform the dataset\nimport numpy as np #we use this for statistical analysis\nimport matplotlib.pyplot as plt #we use this to visualize the dataset\nimport seaborn as sns #we use this to make countplots\nimport sklearn.metrics as sklm #This is to test the models\n\n"
    },
    "executionTime": "2020-10-13T11:00:19.065Z"
   },
   {
    "cell": {
     "executionCount": 2,
     "executionEventId": "1d6f29eb-57f5-4620-8f72-cbc0576442cb",
     "hasError": true,
     "id": "d99e2044-d21f-4c88-88ee-9c0696fd9d36",
     "outputs": [
      {
       "ename": "FileNotFoundError",
       "evalue": "[Errno 2] File C:\\Users\\Renate\\Documents\\GitHub\\Data-Projects\\Kaggle\\Kaggle -Credit risk German data\\german_credit_data_withlabel.csv does not exist: 'C:\\\\Users\\\\Renate\\\\Documents\\\\GitHub\\\\Data-Projects\\\\Kaggle\\\\Kaggle -Credit risk German data\\\\german_credit_data_withlabel.csv'",
       "output_type": "error",
       "traceback": [
        "\u001b[1;31m---------------------------------------------------------------------------\u001b[0m",
        "\u001b[1;31mFileNotFoundError\u001b[0m                         Traceback (most recent call last)",
        "\u001b[1;32m<ipython-input-2-a0c3359f5e5c>\u001b[0m in \u001b[0;36m<module>\u001b[1;34m\u001b[0m\n\u001b[0;32m      1\u001b[0m \u001b[1;31m#here we load the data\u001b[0m\u001b[1;33m\u001b[0m\u001b[1;33m\u001b[0m\u001b[1;33m\u001b[0m\u001b[0m\n\u001b[1;32m----> 2\u001b[1;33m \u001b[0mdata\u001b[0m \u001b[1;33m=\u001b[0m \u001b[0mpd\u001b[0m\u001b[1;33m.\u001b[0m\u001b[0mread_csv\u001b[0m\u001b[1;33m(\u001b[0m\u001b[1;34mr'C:\\Users\\Renate\\Documents\\GitHub\\Data-Projects\\Kaggle\\Kaggle -Credit risk German data\\german_credit_data_withlabel.csv'\u001b[0m\u001b[1;33m)\u001b[0m\u001b[1;33m\u001b[0m\u001b[1;33m\u001b[0m\u001b[0m\n\u001b[0m\u001b[0;32m      3\u001b[0m \u001b[1;33m\u001b[0m\u001b[0m\n\u001b[0;32m      4\u001b[0m \u001b[1;31m#and immediately I would like to see how this dataset looks like\u001b[0m\u001b[1;33m\u001b[0m\u001b[1;33m\u001b[0m\u001b[1;33m\u001b[0m\u001b[0m\n\u001b[0;32m      5\u001b[0m \u001b[0mdata\u001b[0m\u001b[1;33m.\u001b[0m\u001b[0mhead\u001b[0m\u001b[1;33m(\u001b[0m\u001b[1;33m)\u001b[0m\u001b[1;33m\u001b[0m\u001b[1;33m\u001b[0m\u001b[0m\n",
        "\u001b[1;32m~\\Anaconda3\\ANACONDA\\lib\\site-packages\\pandas\\io\\parsers.py\u001b[0m in \u001b[0;36mparser_f\u001b[1;34m(filepath_or_buffer, sep, delimiter, header, names, index_col, usecols, squeeze, prefix, mangle_dupe_cols, dtype, engine, converters, true_values, false_values, skipinitialspace, skiprows, skipfooter, nrows, na_values, keep_default_na, na_filter, verbose, skip_blank_lines, parse_dates, infer_datetime_format, keep_date_col, date_parser, dayfirst, cache_dates, iterator, chunksize, compression, thousands, decimal, lineterminator, quotechar, quoting, doublequote, escapechar, comment, encoding, dialect, error_bad_lines, warn_bad_lines, delim_whitespace, low_memory, memory_map, float_precision)\u001b[0m\n\u001b[0;32m    674\u001b[0m         )\n\u001b[0;32m    675\u001b[0m \u001b[1;33m\u001b[0m\u001b[0m\n\u001b[1;32m--> 676\u001b[1;33m         \u001b[1;32mreturn\u001b[0m \u001b[0m_read\u001b[0m\u001b[1;33m(\u001b[0m\u001b[0mfilepath_or_buffer\u001b[0m\u001b[1;33m,\u001b[0m \u001b[0mkwds\u001b[0m\u001b[1;33m)\u001b[0m\u001b[1;33m\u001b[0m\u001b[1;33m\u001b[0m\u001b[0m\n\u001b[0m\u001b[0;32m    677\u001b[0m \u001b[1;33m\u001b[0m\u001b[0m\n\u001b[0;32m    678\u001b[0m     \u001b[0mparser_f\u001b[0m\u001b[1;33m.\u001b[0m\u001b[0m__name__\u001b[0m \u001b[1;33m=\u001b[0m \u001b[0mname\u001b[0m\u001b[1;33m\u001b[0m\u001b[1;33m\u001b[0m\u001b[0m\n",
        "\u001b[1;32m~\\Anaconda3\\ANACONDA\\lib\\site-packages\\pandas\\io\\parsers.py\u001b[0m in \u001b[0;36m_read\u001b[1;34m(filepath_or_buffer, kwds)\u001b[0m\n\u001b[0;32m    446\u001b[0m \u001b[1;33m\u001b[0m\u001b[0m\n\u001b[0;32m    447\u001b[0m     \u001b[1;31m# Create the parser.\u001b[0m\u001b[1;33m\u001b[0m\u001b[1;33m\u001b[0m\u001b[1;33m\u001b[0m\u001b[0m\n\u001b[1;32m--> 448\u001b[1;33m     \u001b[0mparser\u001b[0m \u001b[1;33m=\u001b[0m \u001b[0mTextFileReader\u001b[0m\u001b[1;33m(\u001b[0m\u001b[0mfp_or_buf\u001b[0m\u001b[1;33m,\u001b[0m \u001b[1;33m**\u001b[0m\u001b[0mkwds\u001b[0m\u001b[1;33m)\u001b[0m\u001b[1;33m\u001b[0m\u001b[1;33m\u001b[0m\u001b[0m\n\u001b[0m\u001b[0;32m    449\u001b[0m \u001b[1;33m\u001b[0m\u001b[0m\n\u001b[0;32m    450\u001b[0m     \u001b[1;32mif\u001b[0m \u001b[0mchunksize\u001b[0m \u001b[1;32mor\u001b[0m \u001b[0miterator\u001b[0m\u001b[1;33m:\u001b[0m\u001b[1;33m\u001b[0m\u001b[1;33m\u001b[0m\u001b[0m\n",
        "\u001b[1;32m~\\Anaconda3\\ANACONDA\\lib\\site-packages\\pandas\\io\\parsers.py\u001b[0m in \u001b[0;36m__init__\u001b[1;34m(self, f, engine, **kwds)\u001b[0m\n\u001b[0;32m    878\u001b[0m             \u001b[0mself\u001b[0m\u001b[1;33m.\u001b[0m\u001b[0moptions\u001b[0m\u001b[1;33m[\u001b[0m\u001b[1;34m\"has_index_names\"\u001b[0m\u001b[1;33m]\u001b[0m \u001b[1;33m=\u001b[0m \u001b[0mkwds\u001b[0m\u001b[1;33m[\u001b[0m\u001b[1;34m\"has_index_names\"\u001b[0m\u001b[1;33m]\u001b[0m\u001b[1;33m\u001b[0m\u001b[1;33m\u001b[0m\u001b[0m\n\u001b[0;32m    879\u001b[0m \u001b[1;33m\u001b[0m\u001b[0m\n\u001b[1;32m--> 880\u001b[1;33m         \u001b[0mself\u001b[0m\u001b[1;33m.\u001b[0m\u001b[0m_make_engine\u001b[0m\u001b[1;33m(\u001b[0m\u001b[0mself\u001b[0m\u001b[1;33m.\u001b[0m\u001b[0mengine\u001b[0m\u001b[1;33m)\u001b[0m\u001b[1;33m\u001b[0m\u001b[1;33m\u001b[0m\u001b[0m\n\u001b[0m\u001b[0;32m    881\u001b[0m \u001b[1;33m\u001b[0m\u001b[0m\n\u001b[0;32m    882\u001b[0m     \u001b[1;32mdef\u001b[0m \u001b[0mclose\u001b[0m\u001b[1;33m(\u001b[0m\u001b[0mself\u001b[0m\u001b[1;33m)\u001b[0m\u001b[1;33m:\u001b[0m\u001b[1;33m\u001b[0m\u001b[1;33m\u001b[0m\u001b[0m\n",
        "\u001b[1;32m~\\Anaconda3\\ANACONDA\\lib\\site-packages\\pandas\\io\\parsers.py\u001b[0m in \u001b[0;36m_make_engine\u001b[1;34m(self, engine)\u001b[0m\n\u001b[0;32m   1112\u001b[0m     \u001b[1;32mdef\u001b[0m \u001b[0m_make_engine\u001b[0m\u001b[1;33m(\u001b[0m\u001b[0mself\u001b[0m\u001b[1;33m,\u001b[0m \u001b[0mengine\u001b[0m\u001b[1;33m=\u001b[0m\u001b[1;34m\"c\"\u001b[0m\u001b[1;33m)\u001b[0m\u001b[1;33m:\u001b[0m\u001b[1;33m\u001b[0m\u001b[1;33m\u001b[0m\u001b[0m\n\u001b[0;32m   1113\u001b[0m         \u001b[1;32mif\u001b[0m \u001b[0mengine\u001b[0m \u001b[1;33m==\u001b[0m \u001b[1;34m\"c\"\u001b[0m\u001b[1;33m:\u001b[0m\u001b[1;33m\u001b[0m\u001b[1;33m\u001b[0m\u001b[0m\n\u001b[1;32m-> 1114\u001b[1;33m             \u001b[0mself\u001b[0m\u001b[1;33m.\u001b[0m\u001b[0m_engine\u001b[0m \u001b[1;33m=\u001b[0m \u001b[0mCParserWrapper\u001b[0m\u001b[1;33m(\u001b[0m\u001b[0mself\u001b[0m\u001b[1;33m.\u001b[0m\u001b[0mf\u001b[0m\u001b[1;33m,\u001b[0m \u001b[1;33m**\u001b[0m\u001b[0mself\u001b[0m\u001b[1;33m.\u001b[0m\u001b[0moptions\u001b[0m\u001b[1;33m)\u001b[0m\u001b[1;33m\u001b[0m\u001b[1;33m\u001b[0m\u001b[0m\n\u001b[0m\u001b[0;32m   1115\u001b[0m         \u001b[1;32melse\u001b[0m\u001b[1;33m:\u001b[0m\u001b[1;33m\u001b[0m\u001b[1;33m\u001b[0m\u001b[0m\n\u001b[0;32m   1116\u001b[0m             \u001b[1;32mif\u001b[0m \u001b[0mengine\u001b[0m \u001b[1;33m==\u001b[0m \u001b[1;34m\"python\"\u001b[0m\u001b[1;33m:\u001b[0m\u001b[1;33m\u001b[0m\u001b[1;33m\u001b[0m\u001b[0m\n",
        "\u001b[1;32m~\\Anaconda3\\ANACONDA\\lib\\site-packages\\pandas\\io\\parsers.py\u001b[0m in \u001b[0;36m__init__\u001b[1;34m(self, src, **kwds)\u001b[0m\n\u001b[0;32m   1889\u001b[0m         \u001b[0mkwds\u001b[0m\u001b[1;33m[\u001b[0m\u001b[1;34m\"usecols\"\u001b[0m\u001b[1;33m]\u001b[0m \u001b[1;33m=\u001b[0m \u001b[0mself\u001b[0m\u001b[1;33m.\u001b[0m\u001b[0musecols\u001b[0m\u001b[1;33m\u001b[0m\u001b[1;33m\u001b[0m\u001b[0m\n\u001b[0;32m   1890\u001b[0m \u001b[1;33m\u001b[0m\u001b[0m\n\u001b[1;32m-> 1891\u001b[1;33m         \u001b[0mself\u001b[0m\u001b[1;33m.\u001b[0m\u001b[0m_reader\u001b[0m \u001b[1;33m=\u001b[0m \u001b[0mparsers\u001b[0m\u001b[1;33m.\u001b[0m\u001b[0mTextReader\u001b[0m\u001b[1;33m(\u001b[0m\u001b[0msrc\u001b[0m\u001b[1;33m,\u001b[0m \u001b[1;33m**\u001b[0m\u001b[0mkwds\u001b[0m\u001b[1;33m)\u001b[0m\u001b[1;33m\u001b[0m\u001b[1;33m\u001b[0m\u001b[0m\n\u001b[0m\u001b[0;32m   1892\u001b[0m         \u001b[0mself\u001b[0m\u001b[1;33m.\u001b[0m\u001b[0munnamed_cols\u001b[0m \u001b[1;33m=\u001b[0m \u001b[0mself\u001b[0m\u001b[1;33m.\u001b[0m\u001b[0m_reader\u001b[0m\u001b[1;33m.\u001b[0m\u001b[0munnamed_cols\u001b[0m\u001b[1;33m\u001b[0m\u001b[1;33m\u001b[0m\u001b[0m\n\u001b[0;32m   1893\u001b[0m \u001b[1;33m\u001b[0m\u001b[0m\n",
        "\u001b[1;32mpandas\\_libs\\parsers.pyx\u001b[0m in \u001b[0;36mpandas._libs.parsers.TextReader.__cinit__\u001b[1;34m()\u001b[0m\n",
        "\u001b[1;32mpandas\\_libs\\parsers.pyx\u001b[0m in \u001b[0;36mpandas._libs.parsers.TextReader._setup_parser_source\u001b[1;34m()\u001b[0m\n",
        "\u001b[1;31mFileNotFoundError\u001b[0m: [Errno 2] File C:\\Users\\Renate\\Documents\\GitHub\\Data-Projects\\Kaggle\\Kaggle -Credit risk German data\\german_credit_data_withlabel.csv does not exist: 'C:\\\\Users\\\\Renate\\\\Documents\\\\GitHub\\\\Data-Projects\\\\Kaggle\\\\Kaggle -Credit risk German data\\\\german_credit_data_withlabel.csv'"
       ]
      }
     ],
     "persistentId": "8a811c20-cb81-45d3-82cb-e64813ecabdc",
     "text": "#here we load the data\ndata = pd.read_csv(r'C:\\Users\\Renate\\Documents\\GitHub\\Data-Projects\\Kaggle\\Kaggle -Credit risk German data\\german_credit_data_withlabel.csv')\n\n#and immediately I would like to see how this dataset looks like\ndata.head()"
    },
    "executionTime": "2020-10-13T11:06:49.069Z"
   },
   {
    "cell": {
     "executionCount": 3,
     "executionEventId": "3fec600c-8f16-498d-a9c8-877fa9ba73e8",
     "hasError": false,
     "id": "d99e2044-d21f-4c88-88ee-9c0696fd9d36",
     "outputs": [
      {
       "data": {
        "text/html": "<div>\n<style scoped>\n    .dataframe tbody tr th:only-of-type {\n        vertical-align: middle;\n    }\n\n    .dataframe tbody tr th {\n        vertical-align: top;\n    }\n\n    .dataframe thead th {\n        text-align: right;\n    }\n</style>\n<table border=\"1\" class=\"dataframe\">\n  <thead>\n    <tr style=\"text-align: right;\">\n      <th></th>\n      <th>Unnamed: 0</th>\n      <th>Age</th>\n      <th>Sex</th>\n      <th>Job</th>\n      <th>Housing</th>\n      <th>Saving accounts</th>\n      <th>Checking account</th>\n      <th>Credit amount</th>\n      <th>Duration</th>\n      <th>Purpose</th>\n      <th>Risk</th>\n    </tr>\n  </thead>\n  <tbody>\n    <tr>\n      <th>0</th>\n      <td>0</td>\n      <td>67</td>\n      <td>male</td>\n      <td>2</td>\n      <td>own</td>\n      <td>NaN</td>\n      <td>little</td>\n      <td>1169</td>\n      <td>6</td>\n      <td>radio/TV</td>\n      <td>good</td>\n    </tr>\n    <tr>\n      <th>1</th>\n      <td>1</td>\n      <td>22</td>\n      <td>female</td>\n      <td>2</td>\n      <td>own</td>\n      <td>little</td>\n      <td>moderate</td>\n      <td>5951</td>\n      <td>48</td>\n      <td>radio/TV</td>\n      <td>bad</td>\n    </tr>\n    <tr>\n      <th>2</th>\n      <td>2</td>\n      <td>49</td>\n      <td>male</td>\n      <td>1</td>\n      <td>own</td>\n      <td>little</td>\n      <td>NaN</td>\n      <td>2096</td>\n      <td>12</td>\n      <td>education</td>\n      <td>good</td>\n    </tr>\n    <tr>\n      <th>3</th>\n      <td>3</td>\n      <td>45</td>\n      <td>male</td>\n      <td>2</td>\n      <td>free</td>\n      <td>little</td>\n      <td>little</td>\n      <td>7882</td>\n      <td>42</td>\n      <td>furniture/equipment</td>\n      <td>good</td>\n    </tr>\n    <tr>\n      <th>4</th>\n      <td>4</td>\n      <td>53</td>\n      <td>male</td>\n      <td>2</td>\n      <td>free</td>\n      <td>little</td>\n      <td>little</td>\n      <td>4870</td>\n      <td>24</td>\n      <td>car</td>\n      <td>bad</td>\n    </tr>\n  </tbody>\n</table>\n</div>",
        "text/plain": "   Unnamed: 0  Age     Sex  Job Housing Saving accounts Checking account  \\\n0           0   67    male    2     own             NaN           little   \n1           1   22  female    2     own          little         moderate   \n2           2   49    male    1     own          little              NaN   \n3           3   45    male    2    free          little           little   \n4           4   53    male    2    free          little           little   \n\n   Credit amount  Duration              Purpose  Risk  \n0           1169         6             radio/TV  good  \n1           5951        48             radio/TV   bad  \n2           2096        12            education  good  \n3           7882        42  furniture/equipment  good  \n4           4870        24                  car   bad  "
       },
       "execution_count": 3,
       "metadata": {},
       "output_type": "execute_result"
      }
     ],
     "persistentId": "8a811c20-cb81-45d3-82cb-e64813ecabdc",
     "text": "#here we load the data\ndata = pd.read_csv(r'C:\\Users\\Renate\\Documents\\GitHub\\Data-Projects\\Kaggle\\Kaggle - Credit risk German data\\german_credit_data_withlabel.csv')\n\n#and immediately I would like to see how this dataset looks like\ndata.head()"
    },
    "executionTime": "2020-10-13T11:07:01.611Z"
   },
   {
    "cell": {
     "executionCount": 4,
     "executionEventId": "6bd68b06-57c4-4227-9840-aa6970660357",
     "hasError": false,
     "id": "d99e2044-d21f-4c88-88ee-9c0696fd9d36",
     "outputs": [
      {
       "data": {
        "text/html": "<div>\n<style scoped>\n    .dataframe tbody tr th:only-of-type {\n        vertical-align: middle;\n    }\n\n    .dataframe tbody tr th {\n        vertical-align: top;\n    }\n\n    .dataframe thead th {\n        text-align: right;\n    }\n</style>\n<table border=\"1\" class=\"dataframe\">\n  <thead>\n    <tr style=\"text-align: right;\">\n      <th></th>\n      <th>Age</th>\n      <th>Sex</th>\n      <th>Job</th>\n      <th>Housing</th>\n      <th>Saving accounts</th>\n      <th>Checking account</th>\n      <th>Credit amount</th>\n      <th>Duration</th>\n      <th>Purpose</th>\n      <th>Risk</th>\n    </tr>\n  </thead>\n  <tbody>\n    <tr>\n      <th>0</th>\n      <td>67</td>\n      <td>male</td>\n      <td>2</td>\n      <td>own</td>\n      <td>NaN</td>\n      <td>little</td>\n      <td>1169</td>\n      <td>6</td>\n      <td>radio/TV</td>\n      <td>good</td>\n    </tr>\n    <tr>\n      <th>1</th>\n      <td>22</td>\n      <td>female</td>\n      <td>2</td>\n      <td>own</td>\n      <td>little</td>\n      <td>moderate</td>\n      <td>5951</td>\n      <td>48</td>\n      <td>radio/TV</td>\n      <td>bad</td>\n    </tr>\n    <tr>\n      <th>2</th>\n      <td>49</td>\n      <td>male</td>\n      <td>1</td>\n      <td>own</td>\n      <td>little</td>\n      <td>NaN</td>\n      <td>2096</td>\n      <td>12</td>\n      <td>education</td>\n      <td>good</td>\n    </tr>\n    <tr>\n      <th>3</th>\n      <td>45</td>\n      <td>male</td>\n      <td>2</td>\n      <td>free</td>\n      <td>little</td>\n      <td>little</td>\n      <td>7882</td>\n      <td>42</td>\n      <td>furniture/equipment</td>\n      <td>good</td>\n    </tr>\n    <tr>\n      <th>4</th>\n      <td>53</td>\n      <td>male</td>\n      <td>2</td>\n      <td>free</td>\n      <td>little</td>\n      <td>little</td>\n      <td>4870</td>\n      <td>24</td>\n      <td>car</td>\n      <td>bad</td>\n    </tr>\n  </tbody>\n</table>\n</div>",
        "text/plain": "   Age     Sex  Job Housing Saving accounts Checking account  Credit amount  \\\n0   67    male    2     own             NaN           little           1169   \n1   22  female    2     own          little         moderate           5951   \n2   49    male    1     own          little              NaN           2096   \n3   45    male    2    free          little           little           7882   \n4   53    male    2    free          little           little           4870   \n\n   Duration              Purpose  Risk  \n0         6             radio/TV  good  \n1        48             radio/TV   bad  \n2        12            education  good  \n3        42  furniture/equipment  good  \n4        24                  car   bad  "
       },
       "execution_count": 4,
       "metadata": {},
       "output_type": "execute_result"
      }
     ],
     "persistentId": "8a811c20-cb81-45d3-82cb-e64813ecabdc",
     "text": "#here we load the data\ndata = pd.read_csv(r'C:\\Users\\Renate\\Documents\\GitHub\\Data-Projects\\Kaggle\\Kaggle - Credit risk German data\\german_credit_data_withlabel.csv', index_col = 0)\n\n#and immediately I would like to see how this dataset looks like\ndata.head()"
    },
    "executionTime": "2020-10-13T11:07:20.391Z"
   },
   {
    "cell": {
     "executionCount": 5,
     "executionEventId": "2641fc95-508f-41bf-b06d-5341b6c531ea",
     "hasError": false,
     "id": "e70c5a38-912a-4dff-b7b0-f1923da1142b",
     "outputs": [
      {
       "name": "stdout",
       "output_type": "stream",
       "text": "<class 'pandas.core.frame.DataFrame'>\nInt64Index: 1000 entries, 0 to 999\nData columns (total 10 columns):\n #   Column            Non-Null Count  Dtype \n---  ------            --------------  ----- \n 0   Age               1000 non-null   int64 \n 1   Sex               1000 non-null   object\n 2   Job               1000 non-null   int64 \n 3   Housing           1000 non-null   object\n 4   Saving accounts   817 non-null    object\n 5   Checking account  606 non-null    object\n 6   Credit amount     1000 non-null   int64 \n 7   Duration          1000 non-null   int64 \n 8   Purpose           1000 non-null   object\n 9   Risk              1000 non-null   object\ndtypes: int64(4), object(6)\nmemory usage: 85.9+ KB\n"
      }
     ],
     "persistentId": "6c7747b1-fe18-42f8-9f05-421119d2e624",
     "text": "#now let's look closer at the dataset we got\ndata.info()"
    },
    "executionTime": "2020-10-13T11:08:12.777Z"
   },
   {
    "cell": {
     "executionCount": 6,
     "executionEventId": "f5604158-2603-49c9-9501-249a6150bf1a",
     "hasError": false,
     "id": "a10c6918-b344-479b-bf7c-74d8fe4049da",
     "outputs": [
      {
       "data": {
        "text/plain": "(1000, 10)"
       },
       "execution_count": 6,
       "metadata": {},
       "output_type": "execute_result"
      }
     ],
     "persistentId": "daabff9b-0c6a-4ab6-95cf-fb952d03d8fd",
     "text": "data.shape"
    },
    "executionTime": "2020-10-13T11:09:51.580Z"
   },
   {
    "cell": {
     "executionCount": 7,
     "executionEventId": "07b37251-ba7a-4985-bf17-09227f783fd2",
     "hasError": true,
     "id": "79758baf-a7ce-483a-9997-c3dcbe1177fa",
     "outputs": [
      {
       "ename": "SyntaxError",
       "evalue": "invalid syntax (<ipython-input-7-e12d41bd12cd>, line 1)",
       "output_type": "error",
       "traceback": [
        "\u001b[1;36m  File \u001b[1;32m\"<ipython-input-7-e12d41bd12cd>\"\u001b[1;36m, line \u001b[1;32m1\u001b[0m\n\u001b[1;33m    The dataset consists of 1.000 rows and 10 columns.\u001b[0m\n\u001b[1;37m              ^\u001b[0m\n\u001b[1;31mSyntaxError\u001b[0m\u001b[1;31m:\u001b[0m invalid syntax\n"
       ]
      }
     ],
     "persistentId": "2d6abb5f-de05-467d-a2e8-5eb8c0f54eb7",
     "text": "The dataset consists of 1.000 rows and 10 columns. "
    },
    "executionTime": "2020-10-13T11:10:06.850Z"
   },
   {
    "cell": {
     "executionCount": 8,
     "executionEventId": "f692fecb-44d5-432e-b1f4-29e4c6d6691e",
     "hasError": false,
     "id": "0c57af1d-31cc-499b-87e1-3483a56c5065",
     "outputs": [
      {
       "data": {
        "text/html": "<div>\n<style scoped>\n    .dataframe tbody tr th:only-of-type {\n        vertical-align: middle;\n    }\n\n    .dataframe tbody tr th {\n        vertical-align: top;\n    }\n\n    .dataframe thead th {\n        text-align: right;\n    }\n</style>\n<table border=\"1\" class=\"dataframe\">\n  <thead>\n    <tr style=\"text-align: right;\">\n      <th></th>\n      <th>Age</th>\n      <th>Job</th>\n      <th>Credit amount</th>\n      <th>Duration</th>\n    </tr>\n  </thead>\n  <tbody>\n    <tr>\n      <th>count</th>\n      <td>1000.000000</td>\n      <td>1000.000000</td>\n      <td>1000.000000</td>\n      <td>1000.000000</td>\n    </tr>\n    <tr>\n      <th>mean</th>\n      <td>35.546000</td>\n      <td>1.904000</td>\n      <td>3271.258000</td>\n      <td>20.903000</td>\n    </tr>\n    <tr>\n      <th>std</th>\n      <td>11.375469</td>\n      <td>0.653614</td>\n      <td>2822.736876</td>\n      <td>12.058814</td>\n    </tr>\n    <tr>\n      <th>min</th>\n      <td>19.000000</td>\n      <td>0.000000</td>\n      <td>250.000000</td>\n      <td>4.000000</td>\n    </tr>\n    <tr>\n      <th>25%</th>\n      <td>27.000000</td>\n      <td>2.000000</td>\n      <td>1365.500000</td>\n      <td>12.000000</td>\n    </tr>\n    <tr>\n      <th>50%</th>\n      <td>33.000000</td>\n      <td>2.000000</td>\n      <td>2319.500000</td>\n      <td>18.000000</td>\n    </tr>\n    <tr>\n      <th>75%</th>\n      <td>42.000000</td>\n      <td>2.000000</td>\n      <td>3972.250000</td>\n      <td>24.000000</td>\n    </tr>\n    <tr>\n      <th>max</th>\n      <td>75.000000</td>\n      <td>3.000000</td>\n      <td>18424.000000</td>\n      <td>72.000000</td>\n    </tr>\n  </tbody>\n</table>\n</div>",
        "text/plain": "               Age          Job  Credit amount     Duration\ncount  1000.000000  1000.000000    1000.000000  1000.000000\nmean     35.546000     1.904000    3271.258000    20.903000\nstd      11.375469     0.653614    2822.736876    12.058814\nmin      19.000000     0.000000     250.000000     4.000000\n25%      27.000000     2.000000    1365.500000    12.000000\n50%      33.000000     2.000000    2319.500000    18.000000\n75%      42.000000     2.000000    3972.250000    24.000000\nmax      75.000000     3.000000   18424.000000    72.000000"
       },
       "execution_count": 8,
       "metadata": {},
       "output_type": "execute_result"
      }
     ],
     "persistentId": "db533125-1897-4c67-8e01-cef3f2badaa5",
     "text": "data.describe()"
    },
    "executionTime": "2020-10-13T11:10:20.116Z"
   },
   {
    "cell": {
     "executionCount": 9,
     "executionEventId": "9e764749-f2c8-4c44-ab37-dace46f00f3e",
     "hasError": false,
     "id": "0572d4df-e23c-4fac-b1f7-db097940a734",
     "outputs": [
      {
       "data": {
        "text/html": "<div>\n<style scoped>\n    .dataframe tbody tr th:only-of-type {\n        vertical-align: middle;\n    }\n\n    .dataframe tbody tr th {\n        vertical-align: top;\n    }\n\n    .dataframe thead th {\n        text-align: right;\n    }\n</style>\n<table border=\"1\" class=\"dataframe\">\n  <thead>\n    <tr style=\"text-align: right;\">\n      <th></th>\n      <th>Sex</th>\n      <th>Housing</th>\n      <th>Saving accounts</th>\n      <th>Checking account</th>\n      <th>Purpose</th>\n      <th>Risk</th>\n    </tr>\n  </thead>\n  <tbody>\n    <tr>\n      <th>count</th>\n      <td>1000</td>\n      <td>1000</td>\n      <td>817</td>\n      <td>606</td>\n      <td>1000</td>\n      <td>1000</td>\n    </tr>\n    <tr>\n      <th>unique</th>\n      <td>2</td>\n      <td>3</td>\n      <td>4</td>\n      <td>3</td>\n      <td>8</td>\n      <td>2</td>\n    </tr>\n    <tr>\n      <th>top</th>\n      <td>male</td>\n      <td>own</td>\n      <td>little</td>\n      <td>little</td>\n      <td>car</td>\n      <td>good</td>\n    </tr>\n    <tr>\n      <th>freq</th>\n      <td>690</td>\n      <td>713</td>\n      <td>603</td>\n      <td>274</td>\n      <td>337</td>\n      <td>700</td>\n    </tr>\n  </tbody>\n</table>\n</div>",
        "text/plain": "         Sex Housing Saving accounts Checking account Purpose  Risk\ncount   1000    1000             817              606    1000  1000\nunique     2       3               4                3       8     2\ntop     male     own          little           little     car  good\nfreq     690     713             603              274     337   700"
       },
       "execution_count": 9,
       "metadata": {},
       "output_type": "execute_result"
      }
     ],
     "persistentId": "376bc593-94fb-4d8a-8883-7894a45b5e9f",
     "text": "data.describe(include='O')"
    },
    "executionTime": "2020-10-13T11:11:14.544Z"
   },
   {
    "cell": {
     "executionCount": 10,
     "executionEventId": "ea213396-5e43-4c84-9c86-205ce774e86e",
     "hasError": false,
     "id": "d520b618-8b12-44b9-8c1f-128540c8b8ed",
     "outputs": [
      {
       "name": "stdout",
       "output_type": "stream",
       "text": "Age                  53\nSex                   2\nJob                   4\nHousing               3\nSaving accounts       4\nChecking account      3\nCredit amount       921\nDuration             33\nPurpose               8\nRisk                  2\ndtype: int64\n"
      }
     ],
     "persistentId": "c66ad67e-6b1e-4bf9-8d8a-fb306c5167fc",
     "text": "#Let's see what the options are in the text columns (the objects)\nprint(data.nunique())"
    },
    "executionTime": "2020-10-13T11:52:52.222Z"
   },
   {
    "cell": {
     "executionCount": 11,
     "executionEventId": "64f87aba-dc83-47f7-a7f1-815c5337ac38",
     "hasError": false,
     "id": "b104aff3-6c18-4e50-8834-09f14884a6ef",
     "outputs": [
      {
       "data": {
        "image/png": "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\n",
        "text/plain": "<Figure size 432x288 with 1 Axes>"
       },
       "metadata": {
        "needs_background": "light"
       },
       "output_type": "display_data"
      }
     ],
     "persistentId": "bfbd12f3-85d3-4b4f-925f-e080ae4a7d6f",
     "text": "#first let's count the good and bad risks\nGood = data[data['Risk'] == 'good']['Risk'].count()\nBad = data[data['Risk'] == 'bad']['Risk'].count()\n\n#now let's put these results in a dataframe to visualize them\ndf = {\"Count\" : [Good, Bad]} #this is for the legend to be clear that it is counts\nStatus = pd.DataFrame(df, index=[\"Good\", \"Bas\"])\n\n#let's visualize the bar plot\nax = Status.plot(kind = 'bar', title = 'Credit Risks')\n\n#here I want to add the labels to the bars and to make this more clear I've made them white of color\nfor p in ax.patches:\n    ax.annotate(str(p.get_height()), (p.get_x() + p.get_width() / 2, p.get_height() - 30), color = 'white', fontweight = 'bold')"
    },
    "executionTime": "2020-10-13T11:56:40.798Z"
   },
   {
    "cell": {
     "executionCount": 12,
     "executionEventId": "a33631e6-5d87-4a88-bbec-c828f895f2bb",
     "hasError": false,
     "id": "7eeef3b4-05be-4fcf-8241-e5dfdb05410f",
     "outputs": [
      {
       "name": "stdout",
       "output_type": "stream",
       "text": "The percentage of good risks : 0.70\nThe percentage of bad risks : 0.30\n"
      }
     ],
     "persistentId": "b1e71c8b-13fc-4532-80c2-f2b03e7d7afe",
     "text": "#let's see the percentages of the risks:\nprint('The percentage of good risks : %.2f' % (data['Risk'].value_counts()[0] / len(data)))\nprint('The percentage of bad risks : %.2f' % (data['Risk'].value_counts()[1] / len(data)))"
    },
    "executionTime": "2020-10-13T11:57:23.387Z"
   },
   {
    "cell": {
     "executionCount": 13,
     "executionEventId": "affa325d-eca4-455e-8a1e-f554601485d9",
     "hasError": false,
     "id": "25ba2970-3507-4abf-9ee0-6b9589ead5c7",
     "outputs": [
      {
       "data": {
        "text/plain": "Checking account    394\nSaving accounts     183\nRisk                  0\nPurpose               0\nDuration              0\nCredit amount         0\nHousing               0\nJob                   0\nSex                   0\nAge                   0\ndtype: int64"
       },
       "execution_count": 13,
       "metadata": {},
       "output_type": "execute_result"
      }
     ],
     "persistentId": "49be5e46-fd64-4224-9943-ada2c65a8a23",
     "text": "#let's look in what columns there are missing values \ndata.isnull().sum().sort_values(ascending = False)"
    },
    "executionTime": "2020-10-13T11:58:17.489Z"
   },
   {
    "cell": {
     "executionCount": 14,
     "executionEventId": "990d3f07-06bd-417c-9150-9b24325e2544",
     "hasError": false,
     "id": "d798f307-ed21-4ff6-9354-8753ea2d8c9e",
     "outputs": [
      {
       "data": {
        "text/plain": "<matplotlib.axes._subplots.AxesSubplot at 0x283db8e6198>"
       },
       "execution_count": 14,
       "metadata": {},
       "output_type": "execute_result"
      },
      {
       "data": {
        "image/png": "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\n",
        "text/plain": "<Figure size 432x288 with 1 Axes>"
       },
       "metadata": {
        "needs_background": "light"
       },
       "output_type": "display_data"
      }
     ],
     "persistentId": "0d50f11f-84a4-4be4-8ab2-8f0df86f4796",
     "text": "#Let's look at the Checking account in more detail to see what the best way is to handle these missing values\n#I will use seaborn for the visualization\nsns.countplot(data['Risk'],hue=data['Checking account'])"
    },
    "executionTime": "2020-10-13T11:59:06.329Z"
   },
   {
    "cell": {
     "executionCount": 15,
     "executionEventId": "4b0135b0-3b45-40d1-bb80-bf9a12a2126b",
     "hasError": false,
     "id": "97a3fbde-2036-4367-acf8-d41d2c732973",
     "outputs": [
      {
       "name": "stdout",
       "output_type": "stream",
       "text": "Risk              bad  good\nChecking account           \nlittle            135   139\nmoderate          105   164\nrich               14    49\n"
      }
     ],
     "persistentId": "b44e7bb1-650e-48f4-94f9-a2c798932713",
     "text": "print(pd.crosstab(data['Checking account'],data['Risk']))"
    },
    "executionTime": "2020-10-13T11:59:55.425Z"
   }
  ],
  "kernelspec": {
   "display_name": "Python 3",
   "language": "python",
   "name": "python3"
  },
  "language_info": {
   "codemirror_mode": {
    "name": "ipython",
    "version": 3
   },
   "file_extension": ".py",
   "mimetype": "text/x-python",
   "name": "python",
   "nbconvert_exporter": "python",
   "pygments_lexer": "ipython3",
   "version": "3.7.3"
  },
  "uuid": "8eb56370-bb50-4535-8013-6f282b1bfa1f"
 },
 "nbformat": 4,
 "nbformat_minor": 4
}
