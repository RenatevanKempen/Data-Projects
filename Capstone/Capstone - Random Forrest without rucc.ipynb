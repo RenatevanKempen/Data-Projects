{
 "cells": [
  {
   "cell_type": "code",
   "execution_count": 1,
   "metadata": {},
   "outputs": [],
   "source": [
    "from sklearn.neural_network import MLPClassifier\n",
    "from sklearn import preprocessing\n",
    "#from statsmodels.api import datasets\n",
    "from sklearn import datasets ## Get dataset from sklearn\n",
    "import sklearn.model_selection as ms\n",
    "import sklearn.metrics as sklm\n",
    "import matplotlib.pyplot as plt\n",
    "import pandas as pd\n",
    "import numpy as np\n",
    "import numpy.random as nr\n",
    "import seaborn as sns\n",
    "\n",
    "%matplotlib inline"
   ]
  },
  {
   "cell_type": "code",
   "execution_count": 2,
   "metadata": {},
   "outputs": [],
   "source": [
    "train_labels = pd.read_csv('documents/datasets/train_labels.csv')\n",
    "train_values = pd.read_csv('documents/datasets/train_values.csv')\n",
    "submission = pd.read_csv('documents/datasets/test_values.csv')\n",
    "test_values = pd.read_csv('documents/datasets/submission_format.csv')"
   ]
  },
  {
   "cell_type": "code",
   "execution_count": 3,
   "metadata": {},
   "outputs": [
    {
     "name": "stdout",
     "output_type": "stream",
     "text": [
      "Shape of train labels data:  (2546, 2)\n",
      "Shape of train values data:  (2546, 48)\n",
      "Shape of test values data:  (2420, 2)\n",
      "Shape of submission:  (2420, 48)\n"
     ]
    }
   ],
   "source": [
    "print(\"Shape of train labels data: \", train_labels.shape)\n",
    "print(\"Shape of train values data: \", train_values.shape)\n",
    "print(\"Shape of test values data: \", test_values.shape)\n",
    "print(\"Shape of submission: \", submission.shape)"
   ]
  },
  {
   "cell_type": "code",
   "execution_count": 4,
   "metadata": {},
   "outputs": [
    {
     "name": "stdout",
     "output_type": "stream",
     "text": [
      "(2546, 49)\n"
     ]
    }
   ],
   "source": [
    "train = pd.merge(train_labels, train_values)\n",
    "\n",
    "print(train.shape)"
   ]
  },
  {
   "cell_type": "code",
   "execution_count": 5,
   "metadata": {},
   "outputs": [
    {
     "data": {
      "text/plain": [
       "count        2546\n",
       "unique       1296\n",
       "top       d1993c9\n",
       "freq            2\n",
       "Name: county_code, dtype: object"
      ]
     },
     "execution_count": 5,
     "metadata": {},
     "output_type": "execute_result"
    }
   ],
   "source": [
    "train['county_code'].describe()"
   ]
  },
  {
   "cell_type": "code",
   "execution_count": 6,
   "metadata": {},
   "outputs": [
    {
     "data": {
      "text/plain": [
       "row_id                                          int64\n",
       "evictions                                       int64\n",
       "county_code                                    object\n",
       "year                                           object\n",
       "state                                          object\n",
       "population                                    float64\n",
       "renter_occupied_households                    float64\n",
       "pct_renter_occupied                           float64\n",
       "median_gross_rent                             float64\n",
       "median_household_income                       float64\n",
       "median_property_value                         float64\n",
       "rent_burden                                   float64\n",
       "pct_white                                     float64\n",
       "pct_af_am                                     float64\n",
       "pct_hispanic                                  float64\n",
       "pct_am_ind                                    float64\n",
       "pct_asian                                     float64\n",
       "pct_nh_pi                                     float64\n",
       "pct_multiple                                  float64\n",
       "pct_other                                     float64\n",
       "poverty_rate                                  float64\n",
       "rucc                                           object\n",
       "urban_influence                                object\n",
       "economic_typology                              object\n",
       "pct_civilian_labor                            float64\n",
       "pct_unemployment                              float64\n",
       "pct_uninsured_adults                          float64\n",
       "pct_uninsured_children                        float64\n",
       "pct_adult_obesity                             float64\n",
       "pct_adult_smoking                             float64\n",
       "pct_diabetes                                  float64\n",
       "pct_low_birthweight                           float64\n",
       "pct_excessive_drinking                        float64\n",
       "pct_physical_inactivity                       float64\n",
       "air_pollution_particulate_matter_value        float64\n",
       "homicides_per_100k                            float64\n",
       "motor_vehicle_crash_deaths_per_100k           float64\n",
       "heart_disease_mortality_per_100k                int64\n",
       "pop_per_dentist                               float64\n",
       "pop_per_primary_care_physician                float64\n",
       "pct_female                                    float64\n",
       "pct_below_18_years_of_age                     float64\n",
       "pct_aged_65_years_and_older                   float64\n",
       "pct_adults_less_than_a_high_school_diploma    float64\n",
       "pct_adults_with_high_school_diploma           float64\n",
       "pct_adults_with_some_college                  float64\n",
       "pct_adults_bachelors_or_higher                float64\n",
       "birth_rate_per_1k                             float64\n",
       "death_rate_per_1k                             float64\n",
       "dtype: object"
      ]
     },
     "execution_count": 6,
     "metadata": {},
     "output_type": "execute_result"
    }
   ],
   "source": [
    "train.dtypes"
   ]
  },
  {
   "cell_type": "code",
   "execution_count": 7,
   "metadata": {},
   "outputs": [
    {
     "name": "stderr",
     "output_type": "stream",
     "text": [
      "C:\\Users\\Renate\\Anaconda3\\ANACONDA\\lib\\site-packages\\seaborn\\axisgrid.py:2065: UserWarning: The `size` parameter has been renamed to `height`; pleaes update your code.\n",
      "  warnings.warn(msg, UserWarning)\n"
     ]
    },
    {
     "data": {
      "text/plain": [
       "<seaborn.axisgrid.PairGrid at 0x2490e963fd0>"
      ]
     },
     "execution_count": 7,
     "metadata": {},
     "output_type": "execute_result"
    },
    {
     "data": {
      "image/png": "[encoded data removed]",
      "text/plain": [
       "<Figure size 432x432 with 12 Axes>"
      ]
     },
     "metadata": {
      "needs_background": "light"
     },
     "output_type": "display_data"
    }
   ],
   "source": [
    "%matplotlib inline\n",
    "\n",
    "import seaborn as sns\n",
    "num_cols = ['population', 'birth_rate_per_1k', 'poverty_rate', 'rucc']\n",
    "sns.pairplot(train[num_cols], size=2)"
   ]
  },
  {
   "cell_type": "code",
   "execution_count": 8,
   "metadata": {},
   "outputs": [
    {
     "name": "stderr",
     "output_type": "stream",
     "text": [
      "C:\\Users\\Renate\\Anaconda3\\ANACONDA\\lib\\site-packages\\seaborn\\axisgrid.py:2065: UserWarning: The `size` parameter has been renamed to `height`; pleaes update your code.\n",
      "  warnings.warn(msg, UserWarning)\n"
     ]
    },
    {
     "data": {
      "text/plain": [
       "<seaborn.axisgrid.PairGrid at 0x2490efef908>"
      ]
     },
     "execution_count": 8,
     "metadata": {},
     "output_type": "execute_result"
    },
    {
     "data": {
      "image/png": "[encoded data removed]",
      "text/plain": [
       "<Figure size 432x432 with 12 Axes>"
      ]
     },
     "metadata": {
      "needs_background": "light"
     },
     "output_type": "display_data"
    }
   ],
   "source": [
    "%matplotlib inline\n",
    "\n",
    "import seaborn as sns\n",
    "num_cols = ['renter_occupied_households', 'population', 'evictions']\n",
    "sns.pairplot(train[num_cols], size=2)"
   ]
  },
  {
   "cell_type": "code",
   "execution_count": 9,
   "metadata": {
    "scrolled": true
   },
   "outputs": [
    {
     "data": {
      "text/html": [
       "<div>\n",
       "<style scoped>\n",
       "    .dataframe tbody tr th:only-of-type {\n",
       "        vertical-align: middle;\n",
       "    }\n",
       "\n",
       "    .dataframe tbody tr th {\n",
       "        vertical-align: top;\n",
       "    }\n",
       "\n",
       "    .dataframe thead th {\n",
       "        text-align: right;\n",
       "    }\n",
       "</style>\n",
       "<table border=\"1\" class=\"dataframe\">\n",
       "  <thead>\n",
       "    <tr style=\"text-align: right;\">\n",
       "      <th></th>\n",
       "      <th>row_id</th>\n",
       "      <th>evictions</th>\n",
       "      <th>population</th>\n",
       "      <th>renter_occupied_households</th>\n",
       "      <th>pct_renter_occupied</th>\n",
       "      <th>median_gross_rent</th>\n",
       "      <th>median_household_income</th>\n",
       "      <th>median_property_value</th>\n",
       "      <th>rent_burden</th>\n",
       "      <th>pct_white</th>\n",
       "      <th>...</th>\n",
       "      <th>pop_per_primary_care_physician</th>\n",
       "      <th>pct_female</th>\n",
       "      <th>pct_below_18_years_of_age</th>\n",
       "      <th>pct_aged_65_years_and_older</th>\n",
       "      <th>pct_adults_less_than_a_high_school_diploma</th>\n",
       "      <th>pct_adults_with_high_school_diploma</th>\n",
       "      <th>pct_adults_with_some_college</th>\n",
       "      <th>pct_adults_bachelors_or_higher</th>\n",
       "      <th>birth_rate_per_1k</th>\n",
       "      <th>death_rate_per_1k</th>\n",
       "    </tr>\n",
       "  </thead>\n",
       "  <tbody>\n",
       "    <tr>\n",
       "      <th>count</th>\n",
       "      <td>2546.000000</td>\n",
       "      <td>2546.000000</td>\n",
       "      <td>2.546000e+03</td>\n",
       "      <td>2546.000000</td>\n",
       "      <td>2546.00000</td>\n",
       "      <td>2546.000000</td>\n",
       "      <td>2544.000000</td>\n",
       "      <td>2544.000000</td>\n",
       "      <td>2546.000000</td>\n",
       "      <td>2546.000000</td>\n",
       "      <td>...</td>\n",
       "      <td>2371.000000</td>\n",
       "      <td>2546.000000</td>\n",
       "      <td>2546.000000</td>\n",
       "      <td>2546.000000</td>\n",
       "      <td>2546.000000</td>\n",
       "      <td>2546.000000</td>\n",
       "      <td>2546.000000</td>\n",
       "      <td>2546.000000</td>\n",
       "      <td>2546.000000</td>\n",
       "      <td>2546.000000</td>\n",
       "    </tr>\n",
       "    <tr>\n",
       "      <th>mean</th>\n",
       "      <td>1272.500000</td>\n",
       "      <td>378.048311</td>\n",
       "      <td>1.062459e+05</td>\n",
       "      <td>15008.009034</td>\n",
       "      <td>28.14739</td>\n",
       "      <td>688.838178</td>\n",
       "      <td>46050.601415</td>\n",
       "      <td>129609.579009</td>\n",
       "      <td>28.520561</td>\n",
       "      <td>0.776272</td>\n",
       "      <td>...</td>\n",
       "      <td>2587.696752</td>\n",
       "      <td>0.499126</td>\n",
       "      <td>0.226179</td>\n",
       "      <td>0.171583</td>\n",
       "      <td>0.147891</td>\n",
       "      <td>0.353198</td>\n",
       "      <td>0.300911</td>\n",
       "      <td>0.198000</td>\n",
       "      <td>11.481923</td>\n",
       "      <td>10.407134</td>\n",
       "    </tr>\n",
       "    <tr>\n",
       "      <th>std</th>\n",
       "      <td>735.111216</td>\n",
       "      <td>1405.276610</td>\n",
       "      <td>3.228520e+05</td>\n",
       "      <td>53333.684235</td>\n",
       "      <td>7.94014</td>\n",
       "      <td>183.722492</td>\n",
       "      <td>11584.627249</td>\n",
       "      <td>76236.606321</td>\n",
       "      <td>4.453165</td>\n",
       "      <td>0.201149</td>\n",
       "      <td>...</td>\n",
       "      <td>2216.147338</td>\n",
       "      <td>0.024247</td>\n",
       "      <td>0.032725</td>\n",
       "      <td>0.041928</td>\n",
       "      <td>0.068077</td>\n",
       "      <td>0.070167</td>\n",
       "      <td>0.051811</td>\n",
       "      <td>0.086415</td>\n",
       "      <td>2.565979</td>\n",
       "      <td>2.720135</td>\n",
       "    </tr>\n",
       "    <tr>\n",
       "      <th>min</th>\n",
       "      <td>0.000000</td>\n",
       "      <td>0.000000</td>\n",
       "      <td>1.160000e+02</td>\n",
       "      <td>14.000000</td>\n",
       "      <td>7.30500</td>\n",
       "      <td>336.000000</td>\n",
       "      <td>19328.000000</td>\n",
       "      <td>32287.000000</td>\n",
       "      <td>9.986000</td>\n",
       "      <td>0.050935</td>\n",
       "      <td>...</td>\n",
       "      <td>189.000000</td>\n",
       "      <td>0.285000</td>\n",
       "      <td>0.088000</td>\n",
       "      <td>0.063000</td>\n",
       "      <td>0.016032</td>\n",
       "      <td>0.127127</td>\n",
       "      <td>0.137000</td>\n",
       "      <td>0.018868</td>\n",
       "      <td>3.612183</td>\n",
       "      <td>0.000000</td>\n",
       "    </tr>\n",
       "    <tr>\n",
       "      <th>25%</th>\n",
       "      <td>636.250000</td>\n",
       "      <td>4.000000</td>\n",
       "      <td>1.029350e+04</td>\n",
       "      <td>1052.000000</td>\n",
       "      <td>22.88400</td>\n",
       "      <td>577.250000</td>\n",
       "      <td>38495.500000</td>\n",
       "      <td>85288.250000</td>\n",
       "      <td>26.047250</td>\n",
       "      <td>0.655224</td>\n",
       "      <td>...</td>\n",
       "      <td>1409.000000</td>\n",
       "      <td>0.495000</td>\n",
       "      <td>0.206000</td>\n",
       "      <td>0.144000</td>\n",
       "      <td>0.097000</td>\n",
       "      <td>0.308732</td>\n",
       "      <td>0.265734</td>\n",
       "      <td>0.138146</td>\n",
       "      <td>9.915292</td>\n",
       "      <td>8.558383</td>\n",
       "    </tr>\n",
       "    <tr>\n",
       "      <th>50%</th>\n",
       "      <td>1272.500000</td>\n",
       "      <td>29.000000</td>\n",
       "      <td>2.386300e+04</td>\n",
       "      <td>2580.500000</td>\n",
       "      <td>26.86600</td>\n",
       "      <td>642.000000</td>\n",
       "      <td>44480.000000</td>\n",
       "      <td>108844.000000</td>\n",
       "      <td>28.780000</td>\n",
       "      <td>0.855478</td>\n",
       "      <td>...</td>\n",
       "      <td>1980.000000</td>\n",
       "      <td>0.504000</td>\n",
       "      <td>0.225000</td>\n",
       "      <td>0.168000</td>\n",
       "      <td>0.130869</td>\n",
       "      <td>0.356574</td>\n",
       "      <td>0.301301</td>\n",
       "      <td>0.176677</td>\n",
       "      <td>11.306037</td>\n",
       "      <td>10.478088</td>\n",
       "    </tr>\n",
       "    <tr>\n",
       "      <th>75%</th>\n",
       "      <td>1908.750000</td>\n",
       "      <td>160.750000</td>\n",
       "      <td>6.796875e+04</td>\n",
       "      <td>8098.750000</td>\n",
       "      <td>32.09275</td>\n",
       "      <td>750.000000</td>\n",
       "      <td>51526.000000</td>\n",
       "      <td>151696.250000</td>\n",
       "      <td>31.160500</td>\n",
       "      <td>0.935331</td>\n",
       "      <td>...</td>\n",
       "      <td>2864.500000</td>\n",
       "      <td>0.511000</td>\n",
       "      <td>0.243750</td>\n",
       "      <td>0.194750</td>\n",
       "      <td>0.194410</td>\n",
       "      <td>0.401405</td>\n",
       "      <td>0.336000</td>\n",
       "      <td>0.232908</td>\n",
       "      <td>12.836254</td>\n",
       "      <td>12.159568</td>\n",
       "    </tr>\n",
       "    <tr>\n",
       "      <th>max</th>\n",
       "      <td>2545.000000</td>\n",
       "      <td>29251.000000</td>\n",
       "      <td>5.279852e+06</td>\n",
       "      <td>882101.000000</td>\n",
       "      <td>70.61000</td>\n",
       "      <td>1728.000000</td>\n",
       "      <td>123452.000000</td>\n",
       "      <td>904937.000000</td>\n",
       "      <td>49.535000</td>\n",
       "      <td>0.995114</td>\n",
       "      <td>...</td>\n",
       "      <td>23399.000000</td>\n",
       "      <td>0.572000</td>\n",
       "      <td>0.359000</td>\n",
       "      <td>0.345000</td>\n",
       "      <td>0.465932</td>\n",
       "      <td>0.550349</td>\n",
       "      <td>0.448692</td>\n",
       "      <td>0.584080</td>\n",
       "      <td>28.922868</td>\n",
       "      <td>27.397260</td>\n",
       "    </tr>\n",
       "  </tbody>\n",
       "</table>\n",
       "<p>8 rows × 43 columns</p>\n",
       "</div>"
      ],
      "text/plain": [
       "            row_id     evictions    population  renter_occupied_households  \\\n",
       "count  2546.000000   2546.000000  2.546000e+03                 2546.000000   \n",
       "mean   1272.500000    378.048311  1.062459e+05                15008.009034   \n",
       "std     735.111216   1405.276610  3.228520e+05                53333.684235   \n",
       "min       0.000000      0.000000  1.160000e+02                   14.000000   \n",
       "25%     636.250000      4.000000  1.029350e+04                 1052.000000   \n",
       "50%    1272.500000     29.000000  2.386300e+04                 2580.500000   \n",
       "75%    1908.750000    160.750000  6.796875e+04                 8098.750000   \n",
       "max    2545.000000  29251.000000  5.279852e+06               882101.000000   \n",
       "\n",
       "       pct_renter_occupied  median_gross_rent  median_household_income  \\\n",
       "count           2546.00000        2546.000000              2544.000000   \n",
       "mean              28.14739         688.838178             46050.601415   \n",
       "std                7.94014         183.722492             11584.627249   \n",
       "min                7.30500         336.000000             19328.000000   \n",
       "25%               22.88400         577.250000             38495.500000   \n",
       "50%               26.86600         642.000000             44480.000000   \n",
       "75%               32.09275         750.000000             51526.000000   \n",
       "max               70.61000        1728.000000            123452.000000   \n",
       "\n",
       "       median_property_value  rent_burden    pct_white  ...  \\\n",
       "count            2544.000000  2546.000000  2546.000000  ...   \n",
       "mean           129609.579009    28.520561     0.776272  ...   \n",
       "std             76236.606321     4.453165     0.201149  ...   \n",
       "min             32287.000000     9.986000     0.050935  ...   \n",
       "25%             85288.250000    26.047250     0.655224  ...   \n",
       "50%            108844.000000    28.780000     0.855478  ...   \n",
       "75%            151696.250000    31.160500     0.935331  ...   \n",
       "max            904937.000000    49.535000     0.995114  ...   \n",
       "\n",
       "       pop_per_primary_care_physician   pct_female  pct_below_18_years_of_age  \\\n",
       "count                     2371.000000  2546.000000                2546.000000   \n",
       "mean                      2587.696752     0.499126                   0.226179   \n",
       "std                       2216.147338     0.024247                   0.032725   \n",
       "min                        189.000000     0.285000                   0.088000   \n",
       "25%                       1409.000000     0.495000                   0.206000   \n",
       "50%                       1980.000000     0.504000                   0.225000   \n",
       "75%                       2864.500000     0.511000                   0.243750   \n",
       "max                      23399.000000     0.572000                   0.359000   \n",
       "\n",
       "       pct_aged_65_years_and_older  \\\n",
       "count                  2546.000000   \n",
       "mean                      0.171583   \n",
       "std                       0.041928   \n",
       "min                       0.063000   \n",
       "25%                       0.144000   \n",
       "50%                       0.168000   \n",
       "75%                       0.194750   \n",
       "max                       0.345000   \n",
       "\n",
       "       pct_adults_less_than_a_high_school_diploma  \\\n",
       "count                                 2546.000000   \n",
       "mean                                     0.147891   \n",
       "std                                      0.068077   \n",
       "min                                      0.016032   \n",
       "25%                                      0.097000   \n",
       "50%                                      0.130869   \n",
       "75%                                      0.194410   \n",
       "max                                      0.465932   \n",
       "\n",
       "       pct_adults_with_high_school_diploma  pct_adults_with_some_college  \\\n",
       "count                          2546.000000                   2546.000000   \n",
       "mean                              0.353198                      0.300911   \n",
       "std                               0.070167                      0.051811   \n",
       "min                               0.127127                      0.137000   \n",
       "25%                               0.308732                      0.265734   \n",
       "50%                               0.356574                      0.301301   \n",
       "75%                               0.401405                      0.336000   \n",
       "max                               0.550349                      0.448692   \n",
       "\n",
       "       pct_adults_bachelors_or_higher  birth_rate_per_1k  death_rate_per_1k  \n",
       "count                     2546.000000        2546.000000        2546.000000  \n",
       "mean                         0.198000          11.481923          10.407134  \n",
       "std                          0.086415           2.565979           2.720135  \n",
       "min                          0.018868           3.612183           0.000000  \n",
       "25%                          0.138146           9.915292           8.558383  \n",
       "50%                          0.176677          11.306037          10.478088  \n",
       "75%                          0.232908          12.836254          12.159568  \n",
       "max                          0.584080          28.922868          27.397260  \n",
       "\n",
       "[8 rows x 43 columns]"
      ]
     },
     "execution_count": 9,
     "metadata": {},
     "output_type": "execute_result"
    }
   ],
   "source": [
    "train.describe()"
   ]
  },
  {
   "cell_type": "code",
   "execution_count": 10,
   "metadata": {},
   "outputs": [
    {
     "data": {
      "text/plain": [
       "count      2546.000000\n",
       "mean      15008.009034\n",
       "std       53333.684235\n",
       "min          14.000000\n",
       "25%        1052.000000\n",
       "50%        2580.500000\n",
       "75%        8098.750000\n",
       "max      882101.000000\n",
       "Name: renter_occupied_households, dtype: float64"
      ]
     },
     "execution_count": 10,
     "metadata": {},
     "output_type": "execute_result"
    }
   ],
   "source": [
    "train['renter_occupied_households'].describe()"
   ]
  },
  {
   "cell_type": "code",
   "execution_count": 11,
   "metadata": {},
   "outputs": [],
   "source": [
    "# 'population', 'pct_unemployment', 'birth_rate_per_1k', 'death_rate_per_1k'"
   ]
  },
  {
   "cell_type": "code",
   "execution_count": 12,
   "metadata": {},
   "outputs": [
    {
     "data": {
      "text/plain": [
       "median_household_income                   True\n",
       "median_property_value                     True\n",
       "pct_adult_smoking                         True\n",
       "pct_low_birthweight                       True\n",
       "pct_excessive_drinking                    True\n",
       "air_pollution_particulate_matter_value    True\n",
       "homicides_per_100k                        True\n",
       "motor_vehicle_crash_deaths_per_100k       True\n",
       "pop_per_dentist                           True\n",
       "pop_per_primary_care_physician            True\n",
       "dtype: bool"
      ]
     },
     "execution_count": 12,
     "metadata": {},
     "output_type": "execute_result"
    }
   ],
   "source": [
    "train.isna().any()[lambda x: x]"
   ]
  },
  {
   "cell_type": "code",
   "execution_count": 13,
   "metadata": {},
   "outputs": [
    {
     "data": {
      "text/plain": [
       "row_id                                           0\n",
       "evictions                                        0\n",
       "county_code                                      0\n",
       "year                                             0\n",
       "state                                            0\n",
       "population                                       0\n",
       "renter_occupied_households                       0\n",
       "pct_renter_occupied                              0\n",
       "median_gross_rent                                0\n",
       "median_household_income                          2\n",
       "median_property_value                            2\n",
       "rent_burden                                      0\n",
       "pct_white                                        0\n",
       "pct_af_am                                        0\n",
       "pct_hispanic                                     0\n",
       "pct_am_ind                                       0\n",
       "pct_asian                                        0\n",
       "pct_nh_pi                                        0\n",
       "pct_multiple                                     0\n",
       "pct_other                                        0\n",
       "poverty_rate                                     0\n",
       "rucc                                             0\n",
       "urban_influence                                  0\n",
       "economic_typology                                0\n",
       "pct_civilian_labor                               0\n",
       "pct_unemployment                                 0\n",
       "pct_uninsured_adults                             0\n",
       "pct_uninsured_children                           0\n",
       "pct_adult_obesity                                0\n",
       "pct_adult_smoking                              408\n",
       "pct_diabetes                                     0\n",
       "pct_low_birthweight                            126\n",
       "pct_excessive_drinking                         810\n",
       "pct_physical_inactivity                          0\n",
       "air_pollution_particulate_matter_value           1\n",
       "homicides_per_100k                            1598\n",
       "motor_vehicle_crash_deaths_per_100k            308\n",
       "heart_disease_mortality_per_100k                 0\n",
       "pop_per_dentist                                190\n",
       "pop_per_primary_care_physician                 175\n",
       "pct_female                                       0\n",
       "pct_below_18_years_of_age                        0\n",
       "pct_aged_65_years_and_older                      0\n",
       "pct_adults_less_than_a_high_school_diploma       0\n",
       "pct_adults_with_high_school_diploma              0\n",
       "pct_adults_with_some_college                     0\n",
       "pct_adults_bachelors_or_higher                   0\n",
       "birth_rate_per_1k                                0\n",
       "death_rate_per_1k                                0\n",
       "dtype: int64"
      ]
     },
     "execution_count": 13,
     "metadata": {},
     "output_type": "execute_result"
    }
   ],
   "source": [
    "train.isnull().sum()"
   ]
  },
  {
   "cell_type": "code",
   "execution_count": 14,
   "metadata": {},
   "outputs": [],
   "source": [
    "train.drop('pct_adult_smoking', axis = 1, inplace = True)\n",
    "train.drop('pct_low_birthweight', axis = 1, inplace = True)\n",
    "train.drop('pct_excessive_drinking', axis = 1, inplace = True)\n",
    "train.drop('homicides_per_100k', axis = 1, inplace = True)\n",
    "train.drop('motor_vehicle_crash_deaths_per_100k', axis = 1, inplace = True)\n",
    "train.drop('pop_per_dentist', axis = 1, inplace = True)\n",
    "train.drop('pop_per_primary_care_physician', axis = 1, inplace = True)\n"
   ]
  },
  {
   "cell_type": "code",
   "execution_count": 15,
   "metadata": {},
   "outputs": [
    {
     "data": {
      "text/plain": [
       "129609.57900943396"
      ]
     },
     "execution_count": 15,
     "metadata": {},
     "output_type": "execute_result"
    }
   ],
   "source": [
    "train['median_property_value'].mean()"
   ]
  },
  {
   "cell_type": "code",
   "execution_count": 16,
   "metadata": {},
   "outputs": [
    {
     "data": {
      "text/plain": [
       "12.01645651818475"
      ]
     },
     "execution_count": 16,
     "metadata": {},
     "output_type": "execute_result"
    }
   ],
   "source": [
    "train['air_pollution_particulate_matter_value'].median()"
   ]
  },
  {
   "cell_type": "code",
   "execution_count": 17,
   "metadata": {},
   "outputs": [],
   "source": [
    "train[\"median_property_value\"].fillna(129610, inplace = True) \n",
    "train[\"air_pollution_particulate_matter_value\"].fillna(12, inplace = True)"
   ]
  },
  {
   "cell_type": "code",
   "execution_count": 18,
   "metadata": {},
   "outputs": [
    {
     "data": {
      "text/plain": [
       "median_household_income    True\n",
       "dtype: bool"
      ]
     },
     "execution_count": 18,
     "metadata": {},
     "output_type": "execute_result"
    }
   ],
   "source": [
    "train.isna().any()[lambda x: x]"
   ]
  },
  {
   "cell_type": "code",
   "execution_count": 19,
   "metadata": {},
   "outputs": [
    {
     "data": {
      "text/plain": [
       "44480.0"
      ]
     },
     "execution_count": 19,
     "metadata": {},
     "output_type": "execute_result"
    }
   ],
   "source": [
    "train['median_household_income'].median()"
   ]
  },
  {
   "cell_type": "code",
   "execution_count": 20,
   "metadata": {},
   "outputs": [
    {
     "data": {
      "text/plain": [
       "46050.60141509434"
      ]
     },
     "execution_count": 20,
     "metadata": {},
     "output_type": "execute_result"
    }
   ],
   "source": [
    "train['median_household_income'].mean()"
   ]
  },
  {
   "cell_type": "code",
   "execution_count": 21,
   "metadata": {},
   "outputs": [],
   "source": [
    "train[\"median_household_income\"].fillna(44480, inplace = True)"
   ]
  },
  {
   "cell_type": "code",
   "execution_count": 22,
   "metadata": {},
   "outputs": [
    {
     "data": {
      "text/plain": [
       "Series([], dtype: bool)"
      ]
     },
     "execution_count": 22,
     "metadata": {},
     "output_type": "execute_result"
    }
   ],
   "source": [
    "train.isna().any()[lambda x: x]"
   ]
  },
  {
   "cell_type": "code",
   "execution_count": 23,
   "metadata": {},
   "outputs": [
    {
     "data": {
      "text/plain": [
       "Nonspecialized                        1024\n",
       "Manufacturing-dependent                410\n",
       "Farm-dependent                         360\n",
       "Federal/State government-dependent     290\n",
       "Recreation                             248\n",
       "Mining-dependent                       214\n",
       "Name: economic_typology, dtype: int64"
      ]
     },
     "execution_count": 23,
     "metadata": {},
     "output_type": "execute_result"
    }
   ],
   "source": [
    "train['economic_typology'].value_counts()"
   ]
  },
  {
   "cell_type": "code",
   "execution_count": 24,
   "metadata": {},
   "outputs": [
    {
     "name": "stdout",
     "output_type": "stream",
     "text": [
      "[4 4 5 ... 3 4 5]\n"
     ]
    }
   ],
   "source": [
    "Features = train['economic_typology']\n",
    "enc = preprocessing.LabelEncoder()\n",
    "enc.fit(Features)\n",
    "Features = enc.transform(Features)\n",
    "print(Features)"
   ]
  },
  {
   "cell_type": "code",
   "execution_count": 25,
   "metadata": {},
   "outputs": [
    {
     "name": "stderr",
     "output_type": "stream",
     "text": [
      "C:\\Users\\Renate\\Anaconda3\\ANACONDA\\lib\\site-packages\\sklearn\\preprocessing\\_encoders.py:371: FutureWarning: The handling of integer data will change in version 0.22. Currently, the categories are determined based on the range [0, max(values)], while in the future they will be determined based on the unique values.\n",
      "If you want the future behaviour and silence this warning, you can specify \"categories='auto'\".\n",
      "In case you used a LabelEncoder before this OneHotEncoder to convert the categories to integers, then you can now use the OneHotEncoder directly.\n",
      "  warnings.warn(msg, FutureWarning)\n"
     ]
    },
    {
     "data": {
      "text/plain": [
       "array([[0., 0., 0., 0., 1., 0.],\n",
       "       [0., 0., 0., 0., 1., 0.],\n",
       "       [0., 0., 0., 0., 0., 1.],\n",
       "       [0., 0., 0., 0., 1., 0.],\n",
       "       [0., 1., 0., 0., 0., 0.],\n",
       "       [0., 0., 0., 0., 1., 0.],\n",
       "       [1., 0., 0., 0., 0., 0.],\n",
       "       [0., 0., 0., 0., 1., 0.],\n",
       "       [0., 0., 1., 0., 0., 0.],\n",
       "       [0., 0., 0., 0., 1., 0.]])"
      ]
     },
     "execution_count": 25,
     "metadata": {},
     "output_type": "execute_result"
    }
   ],
   "source": [
    "ohe = preprocessing.OneHotEncoder()\n",
    "encoded = ohe.fit(Features.reshape(-1,1))\n",
    "Features = encoded.transform(Features.reshape(-1,1)).toarray()\n",
    "Features[:10,:]"
   ]
  },
  {
   "cell_type": "code",
   "execution_count": 26,
   "metadata": {},
   "outputs": [
    {
     "name": "stdout",
     "output_type": "stream",
     "text": [
      "(2546, 18)\n",
      "[[0. 0. 0. 0. 1. 0. 0. 1. 0. 0. 0. 0. 0. 0. 0. 0. 0. 0.]\n",
      " [0. 0. 0. 0. 1. 0. 0. 0. 0. 0. 0. 0. 1. 0. 0. 0. 0. 0.]]\n"
     ]
    },
    {
     "name": "stderr",
     "output_type": "stream",
     "text": [
      "C:\\Users\\Renate\\Anaconda3\\ANACONDA\\lib\\site-packages\\sklearn\\preprocessing\\_encoders.py:371: FutureWarning: The handling of integer data will change in version 0.22. Currently, the categories are determined based on the range [0, max(values)], while in the future they will be determined based on the unique values.\n",
      "If you want the future behaviour and silence this warning, you can specify \"categories='auto'\".\n",
      "In case you used a LabelEncoder before this OneHotEncoder to convert the categories to integers, then you can now use the OneHotEncoder directly.\n",
      "  warnings.warn(msg, FutureWarning)\n"
     ]
    }
   ],
   "source": [
    "def encode_string(cat_feature):\n",
    "    ## First encode the strings to numeric categories\n",
    "    enc = preprocessing.LabelEncoder()\n",
    "    enc.fit(cat_feature)\n",
    "    enc_cat_feature = enc.transform(cat_feature)\n",
    "    ## Now, apply one hot encoding\n",
    "    ohe = preprocessing.OneHotEncoder()\n",
    "    encoded = ohe.fit(enc_cat_feature.reshape(-1,1))\n",
    "    return encoded.transform(enc_cat_feature.reshape(-1,1)).toarray()\n",
    "    \n",
    "\n",
    "categorical_columns = ['urban_influence']\n",
    "\n",
    "for col in categorical_columns:\n",
    "    temp = encode_string(train[col])\n",
    "    Features = np.concatenate([Features, temp], axis = 1)\n",
    "\n",
    "print(Features.shape)\n",
    "print(Features[:2, :])    "
   ]
  },
  {
   "cell_type": "code",
   "execution_count": 27,
   "metadata": {},
   "outputs": [],
   "source": [
    "#eruit gehaald, voor testen: "
   ]
  },
  {
   "cell_type": "code",
   "execution_count": 28,
   "metadata": {},
   "outputs": [
    {
     "name": "stdout",
     "output_type": "stream",
     "text": [
      "(2546, 26)\n"
     ]
    }
   ],
   "source": [
    "Features = np.concatenate([Features, np.array(train[['renter_occupied_households', \n",
    "                                                     'median_household_income', 'rent_burden', 'poverty_rate',\n",
    "                                                     'pct_asian',\n",
    "                                                     'population', 'pct_female', \n",
    "                                                     'birth_rate_per_1k']])], axis = 1)\n",
    "Features[:2,:]\n",
    "print(Features.shape)"
   ]
  },
  {
   "cell_type": "code",
   "execution_count": 29,
   "metadata": {},
   "outputs": [],
   "source": [
    "# train['log_evictions'] = np.log(train['evictions'])"
   ]
  },
  {
   "cell_type": "code",
   "execution_count": 30,
   "metadata": {},
   "outputs": [],
   "source": [
    "nr.seed(9988)\n",
    "labels = np.array(train['evictions'])\n",
    "indx = range(Features.shape[0])\n",
    "indx = ms.train_test_split(indx, test_size = .3)\n",
    "x_train = Features[indx[0],:]\n",
    "y_train = np.ravel(labels[indx[0]])\n",
    "x_test = Features[indx[1],:]\n",
    "y_test = np.ravel(labels[indx[1]])"
   ]
  },
  {
   "cell_type": "code",
   "execution_count": 31,
   "metadata": {},
   "outputs": [
    {
     "name": "stdout",
     "output_type": "stream",
     "text": [
      "(1782, 26)\n"
     ]
    },
    {
     "data": {
      "text/plain": [
       "array([[ 0.        ,  0.        ,  1.        ,  0.        ,  0.        ,\n",
       "         0.        ,  0.        ,  0.        ,  0.        ,  0.        ,\n",
       "         0.        ,  0.        ,  1.        ,  0.        ,  0.        ,\n",
       "         0.        ,  0.        ,  0.        , -0.24526116,  1.19627677,\n",
       "        -1.66147795, -1.26033444, -0.40517036, -0.27208414,  0.29381902,\n",
       "         0.10552067],\n",
       "       [ 0.        ,  0.        ,  0.        ,  0.        ,  1.        ,\n",
       "         0.        ,  0.        ,  0.        ,  0.        ,  0.        ,\n",
       "         0.        ,  0.        ,  0.        ,  0.        ,  0.        ,\n",
       "         0.        ,  0.        ,  1.        , -0.18105498,  0.47823005,\n",
       "         0.92964938, -0.5382758 , -0.07589561, -0.15732976,  0.62877975,\n",
       "         0.07630971],\n",
       "       [ 1.        ,  0.        ,  0.        ,  0.        ,  0.        ,\n",
       "         0.        ,  0.        ,  0.        ,  0.        ,  0.        ,\n",
       "         0.        ,  1.        ,  0.        ,  0.        ,  0.        ,\n",
       "         0.        ,  0.        ,  0.        , -0.24937339, -1.31688675,\n",
       "         0.40791874,  1.45570329, -0.43343412, -0.28779669,  0.29381902,\n",
       "         0.87440728],\n",
       "       [ 0.        ,  0.        ,  0.        ,  0.        ,  1.        ,\n",
       "         0.        ,  0.        ,  0.        ,  0.        ,  0.        ,\n",
       "         0.        ,  0.        ,  0.        ,  0.        ,  0.        ,\n",
       "         0.        ,  0.        ,  1.        , -0.22461358,  1.38816398,\n",
       "         0.11447335, -0.45969883,  0.48823047, -0.23476792,  0.16820874,\n",
       "         0.34395981],\n",
       "       [ 0.        ,  0.        ,  1.        ,  0.        ,  0.        ,\n",
       "         0.        ,  0.        ,  0.        ,  0.        ,  0.        ,\n",
       "         0.        ,  0.        ,  0.        ,  1.        ,  0.        ,\n",
       "         0.        ,  0.        ,  0.        , -0.23916192, -0.84315689,\n",
       "        -0.74968514,  0.78072004, -0.48387235, -0.27552208,  0.3775592 ,\n",
       "         1.23666611]])"
      ]
     },
     "execution_count": 31,
     "metadata": {},
     "output_type": "execute_result"
    }
   ],
   "source": [
    "scaler = preprocessing.StandardScaler().fit(x_train[:,18:])\n",
    "x_train[:,18:] = scaler.transform(x_train[:,18:])\n",
    "x_test[:,18:] = scaler.transform(x_test[:,18:])\n",
    "print(x_train.shape)\n",
    "x_train[:5,:]"
   ]
  },
  {
   "cell_type": "code",
   "execution_count": 32,
   "metadata": {},
   "outputs": [
    {
     "data": {
      "text/plain": [
       "RandomForestClassifier(bootstrap=True, class_weight=None, criterion='gini',\n",
       "            max_depth=None, max_features='auto', max_leaf_nodes=None,\n",
       "            min_impurity_decrease=0.0, min_impurity_split=None,\n",
       "            min_samples_leaf=1, min_samples_split=2,\n",
       "            min_weight_fraction_leaf=0.0, n_estimators=50, n_jobs=None,\n",
       "            oob_score=False, random_state=None, verbose=0,\n",
       "            warm_start=False)"
      ]
     },
     "execution_count": 32,
     "metadata": {},
     "output_type": "execute_result"
    }
   ],
   "source": [
    "from sklearn.ensemble import RandomForestClassifier\n",
    "from sklearn import preprocessing\n",
    "\n",
    "nr.seed(444)\n",
    "rf_clf = RandomForestClassifier(n_estimators=50)\n",
    "rf_clf.fit(x_train, y_train)"
   ]
  },
  {
   "cell_type": "code",
   "execution_count": 33,
   "metadata": {},
   "outputs": [],
   "source": [
    "scores = rf_clf.predict(x_test)"
   ]
  },
  {
   "cell_type": "code",
   "execution_count": 34,
   "metadata": {},
   "outputs": [
    {
     "name": "stdout",
     "output_type": "stream",
     "text": [
      "Mean Square Error      = 138111.3115183246\n",
      "Root Mean Square Error = 371.63330248825196\n",
      "Mean Absolute Error    = 95.93193717277487\n",
      "Median Absolute Error  = 10.0\n",
      "R^2                    = 0.8991681949740526\n",
      "Adjusted R^2           = 0.8954692021266334\n"
     ]
    }
   ],
   "source": [
    "import math\n",
    "def print_metrics(y_true, y_predicted, n_parameters):\n",
    "    ## First compute R^2 and the adjusted R^2\n",
    "    r2 = sklm.r2_score(y_true, y_predicted)\n",
    "    r2_adj = r2 - (n_parameters - 1)/(y_true.shape[0] - n_parameters) * (1 - r2)\n",
    "    \n",
    "    ## Print the usual metrics and the R^2 values\n",
    "    print('Mean Square Error      = ' + str(sklm.mean_squared_error(y_true, y_predicted)))\n",
    "    print('Root Mean Square Error = ' + str(math.sqrt(sklm.mean_squared_error(y_true, y_predicted))))\n",
    "    print('Mean Absolute Error    = ' + str(sklm.mean_absolute_error(y_true, y_predicted)))\n",
    "    print('Median Absolute Error  = ' + str(sklm.median_absolute_error(y_true, y_predicted)))\n",
    "    print('R^2                    = ' + str(r2))\n",
    "    print('Adjusted R^2           = ' + str(r2_adj))\n",
    "   \n",
    "y_score = rf_clf.predict(x_test) \n",
    "print_metrics(y_test, y_score, 28)\n"
   ]
  },
  {
   "cell_type": "code",
   "execution_count": null,
   "metadata": {},
   "outputs": [],
   "source": [
    " "
   ]
  },
  {
   "cell_type": "code",
   "execution_count": 35,
   "metadata": {},
   "outputs": [],
   "source": [
    "Test_data = pd.read_csv('Documents/datasets/CAPSTONE/test_values.csv')\n",
    "submission = pd.read_csv('Documents/datasets/CAPSTONE/submission_format.csv')"
   ]
  },
  {
   "cell_type": "code",
   "execution_count": 36,
   "metadata": {},
   "outputs": [
    {
     "name": "stdout",
     "output_type": "stream",
     "text": [
      "(2420, 41)\n"
     ]
    }
   ],
   "source": [
    "Test_data.drop('pct_adult_smoking', axis = 1, inplace = True)\n",
    "Test_data.drop('pct_low_birthweight', axis = 1, inplace = True)\n",
    "Test_data.drop('pct_excessive_drinking', axis = 1, inplace = True)\n",
    "Test_data.drop('homicides_per_100k', axis = 1, inplace = True)\n",
    "Test_data.drop('motor_vehicle_crash_deaths_per_100k', axis = 1, inplace = True)\n",
    "Test_data.drop('pop_per_dentist', axis = 1, inplace = True)\n",
    "Test_data.drop('pop_per_primary_care_physician', axis = 1, inplace = True)\n",
    "print(Test_data.shape)\n"
   ]
  },
  {
   "cell_type": "code",
   "execution_count": 37,
   "metadata": {},
   "outputs": [
    {
     "data": {
      "text/plain": [
       "median_gross_rent                         True\n",
       "air_pollution_particulate_matter_value    True\n",
       "dtype: bool"
      ]
     },
     "execution_count": 37,
     "metadata": {},
     "output_type": "execute_result"
    }
   ],
   "source": [
    "Test_data.isna().any()[lambda x: x]"
   ]
  },
  {
   "cell_type": "code",
   "execution_count": 38,
   "metadata": {},
   "outputs": [],
   "source": [
    "Test_data.drop('median_gross_rent', axis = 1, inplace = True)\n",
    "Test_data.drop('air_pollution_particulate_matter_value', axis = 1, inplace = True)"
   ]
  },
  {
   "cell_type": "code",
   "execution_count": 39,
   "metadata": {},
   "outputs": [
    {
     "data": {
      "text/plain": [
       "Series([], dtype: bool)"
      ]
     },
     "execution_count": 39,
     "metadata": {},
     "output_type": "execute_result"
    }
   ],
   "source": [
    "Test_data.isna().any()[lambda x: x]"
   ]
  },
  {
   "cell_type": "code",
   "execution_count": 40,
   "metadata": {},
   "outputs": [
    {
     "name": "stdout",
     "output_type": "stream",
     "text": [
      "(2420, 6)\n",
      "(2420, 18)\n",
      "[[0. 0. 1. 0. 0. 0. 0. 0. 0. 0. 0. 0. 0. 0. 0. 0. 0. 1.]\n",
      " [0. 0. 1. 0. 0. 0. 0. 0. 0. 0. 0. 0. 0. 0. 0. 0. 0. 1.]]\n"
     ]
    },
    {
     "name": "stderr",
     "output_type": "stream",
     "text": [
      "C:\\Users\\Renate\\Anaconda3\\ANACONDA\\lib\\site-packages\\sklearn\\preprocessing\\_encoders.py:371: FutureWarning: The handling of integer data will change in version 0.22. Currently, the categories are determined based on the range [0, max(values)], while in the future they will be determined based on the unique values.\n",
      "If you want the future behaviour and silence this warning, you can specify \"categories='auto'\".\n",
      "In case you used a LabelEncoder before this OneHotEncoder to convert the categories to integers, then you can now use the OneHotEncoder directly.\n",
      "  warnings.warn(msg, FutureWarning)\n",
      "C:\\Users\\Renate\\Anaconda3\\ANACONDA\\lib\\site-packages\\sklearn\\preprocessing\\_encoders.py:371: FutureWarning: The handling of integer data will change in version 0.22. Currently, the categories are determined based on the range [0, max(values)], while in the future they will be determined based on the unique values.\n",
      "If you want the future behaviour and silence this warning, you can specify \"categories='auto'\".\n",
      "In case you used a LabelEncoder before this OneHotEncoder to convert the categories to integers, then you can now use the OneHotEncoder directly.\n",
      "  warnings.warn(msg, FutureWarning)\n"
     ]
    }
   ],
   "source": [
    "def encode_string(cat_features):\n",
    "    ## First encode the strings to numeric categories\n",
    "    enc = preprocessing.LabelEncoder()\n",
    "    enc.fit(cat_features)\n",
    "    enc_cat_features = enc.transform(cat_features)\n",
    "    ## Now, apply one hot encoding\n",
    "    ohe = preprocessing.OneHotEncoder()\n",
    "    encoded = ohe.fit(enc_cat_features.reshape(-1,1))\n",
    "    return encoded.transform(enc_cat_features.reshape(-1,1)).toarray()\n",
    "\n",
    "categorical_columns = ['urban_influence']\n",
    "\n",
    "Features_test = encode_string(Test_data['economic_typology'])\n",
    "print(Features_test.shape)\n",
    "for col in categorical_columns:\n",
    "    temp = encode_string(Test_data[col])\n",
    "    Features_test = np.concatenate([Features_test, temp], axis = 1)\n",
    "\n",
    "print(Features_test.shape)\n",
    "print(Features_test[:2, :]) "
   ]
  },
  {
   "cell_type": "code",
   "execution_count": 41,
   "metadata": {},
   "outputs": [
    {
     "name": "stdout",
     "output_type": "stream",
     "text": [
      "(2420, 26)\n",
      "[[0.00000000e+00 0.00000000e+00 1.00000000e+00 0.00000000e+00\n",
      "  0.00000000e+00 0.00000000e+00 0.00000000e+00 0.00000000e+00\n",
      "  0.00000000e+00 0.00000000e+00 0.00000000e+00 0.00000000e+00\n",
      "  0.00000000e+00 0.00000000e+00 0.00000000e+00 0.00000000e+00\n",
      "  0.00000000e+00 1.00000000e+00 1.73420000e+04 4.28280000e+04\n",
      "  3.47380000e+01 1.45720000e+01 5.13487813e-03 1.71046000e+05\n",
      "  5.09000000e-01 1.22384616e+01]\n",
      " [0.00000000e+00 0.00000000e+00 1.00000000e+00 0.00000000e+00\n",
      "  0.00000000e+00 0.00000000e+00 0.00000000e+00 0.00000000e+00\n",
      "  0.00000000e+00 0.00000000e+00 0.00000000e+00 0.00000000e+00\n",
      "  0.00000000e+00 0.00000000e+00 0.00000000e+00 0.00000000e+00\n",
      "  0.00000000e+00 1.00000000e+00 1.37760000e+04 5.37120000e+04\n",
      "  2.51080000e+01 6.75200000e+00 5.06306306e-02 1.14518000e+05\n",
      "  4.97000000e-01 1.02136086e+01]]\n"
     ]
    }
   ],
   "source": [
    "Features_test = np.concatenate([Features_test, np.array(Test_data[['renter_occupied_households', \n",
    "                                                     'median_household_income', 'rent_burden', 'poverty_rate',\n",
    "                                                     'pct_asian',\n",
    "                                                     'population', 'pct_female', \n",
    "                                                     'birth_rate_per_1k']])], axis = 1)\n",
    "print(Features_test.shape)\n",
    "print(Features_test[:2, :]) "
   ]
  },
  {
   "cell_type": "code",
   "execution_count": 42,
   "metadata": {},
   "outputs": [
    {
     "data": {
      "text/plain": [
       "array([[ 0.00000000e+00,  0.00000000e+00,  1.00000000e+00,\n",
       "         0.00000000e+00,  0.00000000e+00,  0.00000000e+00,\n",
       "         0.00000000e+00,  0.00000000e+00,  0.00000000e+00,\n",
       "         0.00000000e+00,  0.00000000e+00,  0.00000000e+00,\n",
       "         0.00000000e+00,  0.00000000e+00,  0.00000000e+00,\n",
       "         0.00000000e+00,  0.00000000e+00,  1.00000000e+00,\n",
       "         6.09682103e-02, -3.29042280e-01,  1.38942958e+00,\n",
       "         5.17428532e-01, -2.79796492e-01,  2.00024895e-01,\n",
       "         3.91414509e-01,  3.14960264e-01],\n",
       "       [ 0.00000000e+00,  0.00000000e+00,  1.00000000e+00,\n",
       "         0.00000000e+00,  0.00000000e+00,  0.00000000e+00,\n",
       "         0.00000000e+00,  0.00000000e+00,  0.00000000e+00,\n",
       "         0.00000000e+00,  0.00000000e+00,  0.00000000e+00,\n",
       "         0.00000000e+00,  0.00000000e+00,  0.00000000e+00,\n",
       "         0.00000000e+00,  0.00000000e+00,  1.00000000e+00,\n",
       "         1.50349323e-03,  6.31902157e-01, -7.85308294e-01,\n",
       "        -9.53171778e-01,  1.73098465e+00,  4.10528792e-02,\n",
       "        -1.94134499e-01, -5.10975000e-01]])"
      ]
     },
     "execution_count": 42,
     "metadata": {},
     "output_type": "execute_result"
    }
   ],
   "source": [
    "scaler = preprocessing.StandardScaler().fit(Features_test[:,18:])\n",
    "Features_test[:,18:] = scaler.transform(Features_test[:,18:])\n",
    "Features_test[:2,]"
   ]
  },
  {
   "cell_type": "code",
   "execution_count": 43,
   "metadata": {},
   "outputs": [
    {
     "name": "stdout",
     "output_type": "stream",
     "text": [
      "     0\n",
      "0  935\n",
      "1  123\n",
      "2   10\n",
      "3   82\n",
      "4   46\n"
     ]
    }
   ],
   "source": [
    "x = pd.DataFrame(rf_clf.predict(Features_test))\n",
    "print(x.head())"
   ]
  },
  {
   "cell_type": "code",
   "execution_count": 44,
   "metadata": {},
   "outputs": [],
   "source": [
    "submission['label'] = x"
   ]
  },
  {
   "cell_type": "code",
   "execution_count": 45,
   "metadata": {},
   "outputs": [],
   "source": [
    "submission.to_csv('documents/datasets/CAPSTONE/submission11.csv', index = False, header = True)"
   ]
  },
  {
   "cell_type": "code",
   "execution_count": null,
   "metadata": {},
   "outputs": [],
   "source": []
  }
 ],
 "metadata": {
  "history": [],
  "kernelspec": {
   "display_name": "Python 3",
   "language": "python",
   "name": "python3"
  },
  "language_info": {
   "codemirror_mode": {
    "name": "ipython",
    "version": 3
   },
   "file_extension": ".py",
   "mimetype": "text/x-python",
   "name": "python",
   "nbconvert_exporter": "python",
   "pygments_lexer": "ipython3",
   "version": "3.7.3"
  },
  "uuid": "aa13b513-970e-4a7b-ba08-eceae0bc75d7"
 },
 "nbformat": 4,
 "nbformat_minor": 4
}
