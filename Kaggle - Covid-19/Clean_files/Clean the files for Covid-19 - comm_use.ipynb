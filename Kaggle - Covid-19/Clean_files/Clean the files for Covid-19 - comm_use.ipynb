{
 "cells": [
  {
   "cell_type": "markdown",
   "metadata": {},
   "source": [
    "# COVID-19 Workbook\n",
    "In this Workbook, I will try to replicate some graphs others have made. \n",
    "Example from xhlulu (EDA, parse JSON and generate clean CSV)"
   ]
  },
  {
   "cell_type": "markdown",
   "metadata": {},
   "source": [
    "## Install and import libraries"
   ]
  },
  {
   "cell_type": "code",
   "execution_count": 1,
   "metadata": {},
   "outputs": [],
   "source": [
    "#First clean the JSON files from biorxiv according to xhlulu (EDA, parse JSON and generate clean CSV)\n",
    "import os\n",
    "import json\n",
    "from pprint import pprint\n",
    "from copy import deepcopy\n",
    "\n",
    "import numpy as np\n",
    "import pandas as pd\n",
    "#from tqdm.notebook import tqdm\n",
    "from tqdm import tqdm"
   ]
  },
  {
   "cell_type": "markdown",
   "metadata": {},
   "source": [
    "Unhide the cell below to find the definition of the following functions:\n",
    "\n",
    "- format_name(author)\n",
    "- format_affiliation(affiliation)\n",
    "- format_authors(authors, with_affiliation=False)\n",
    "- format_body(body_text)\n",
    "- format_bib(bibs)"
   ]
  },
  {
   "cell_type": "code",
   "execution_count": 2,
   "metadata": {},
   "outputs": [],
   "source": [
    "def format_name(author):\n",
    "    middle_name = \" \".join(author['middle'])\n",
    "    \n",
    "    if author['middle']:\n",
    "        return \" \".join([author['first'], middle_name, author['last']])\n",
    "    else:\n",
    "        return \" \".join([author['first'], author['last']])\n",
    "\n",
    "\n",
    "def format_affiliation(affiliation):\n",
    "    text = []\n",
    "    location = affiliation.get('location')\n",
    "    if location:\n",
    "        text.extend(list(affiliation['location'].values()))\n",
    "    \n",
    "    institution = affiliation.get('institution')\n",
    "    if institution:\n",
    "        text = [institution] + text\n",
    "    return \", \".join(text)\n",
    "\n",
    "def format_authors(authors, with_affiliation=False):\n",
    "    name_ls = []\n",
    "    \n",
    "    for author in authors:\n",
    "        name = format_name(author)\n",
    "        if with_affiliation:\n",
    "            affiliation = format_affiliation(author['affiliation'])\n",
    "            if affiliation:\n",
    "                name_ls.append(f\"{name} ({affiliation})\")\n",
    "            else:\n",
    "                name_ls.append(name)\n",
    "        else:\n",
    "            name_ls.append(name)\n",
    "    \n",
    "    return \", \".join(name_ls)\n",
    "\n",
    "def format_body(body_text):\n",
    "    texts = [(di['section'], di['text']) for di in body_text]\n",
    "    texts_di = {di['section']: \"\" for di in body_text}\n",
    "    \n",
    "    for section, text in texts:\n",
    "        texts_di[section] += text\n",
    "\n",
    "    body = \"\"\n",
    "\n",
    "    for section, text in texts_di.items():\n",
    "        body += section\n",
    "        body += \"\\n\\n\"\n",
    "        body += text\n",
    "        body += \"\\n\\n\"\n",
    "    \n",
    "    return body\n",
    "\n",
    "def format_bib(bibs):\n",
    "    if type(bibs) == dict:\n",
    "        bibs = list(bibs.values())\n",
    "    bibs = deepcopy(bibs)\n",
    "    formatted = []\n",
    "    \n",
    "    for bib in bibs:\n",
    "        bib['authors'] = format_authors(\n",
    "            bib['authors'], \n",
    "            with_affiliation=False\n",
    "        )\n",
    "        formatted_ls = [str(bib[k]) for k in ['title', 'authors', 'venue', 'year']]\n",
    "        formatted.append(\", \".join(formatted_ls))\n",
    "\n",
    "    return \"; \".join(formatted)"
   ]
  },
  {
   "cell_type": "markdown",
   "metadata": {},
   "source": [
    "Unhide the cell below to find the definition of the following functions:\n",
    "\n",
    "- load_files(dirname)\n",
    "- generate_clean_df(all_files)"
   ]
  },
  {
   "cell_type": "code",
   "execution_count": 3,
   "metadata": {},
   "outputs": [],
   "source": [
    "def load_files(dirname):\n",
    "    filenames = os.listdir(dirname)\n",
    "    raw_files = []\n",
    "\n",
    "    for filename in tqdm(filenames):\n",
    "        filename = dirname + filename\n",
    "        file = json.load(open(filename, 'rb'))\n",
    "        raw_files.append(file)\n",
    "    \n",
    "    return raw_files\n",
    "\n",
    "def generate_clean_df(all_files):\n",
    "    cleaned_files = []\n",
    "    \n",
    "    for file in tqdm(all_files):\n",
    "        features = [\n",
    "            file['paper_id'],\n",
    "            file['metadata']['title'],\n",
    "            format_authors(file['metadata']['authors']),\n",
    "            format_authors(file['metadata']['authors'], \n",
    "                           with_affiliation=True),\n",
    "            format_body(file['abstract']),\n",
    "            format_body(file['body_text']),\n",
    "            format_bib(file['bib_entries']),\n",
    "            file['metadata']['authors'],\n",
    "            file['bib_entries']\n",
    "        ]\n",
    "\n",
    "        cleaned_files.append(features)\n",
    "\n",
    "    col_names = ['paper_id', 'title', 'authors',\n",
    "                 'affiliations', 'abstract', 'text', \n",
    "                 'bibliography','raw_authors','raw_bibliography']\n",
    "\n",
    "    clean_df = pd.DataFrame(cleaned_files, columns=col_names)\n",
    "    clean_df.head()\n",
    "    \n",
    "    return clean_df"
   ]
  },
  {
   "cell_type": "markdown",
   "metadata": {},
   "source": [
    "## Comm_use: Exploration\n",
    "Let's first take a quick glance at the biorxiv subset of the data. We will also use this opportunity to load all of the json files into a list of nested dictionaries (each dict is an article)."
   ]
  },
  {
   "cell_type": "code",
   "execution_count": 4,
   "metadata": {},
   "outputs": [
    {
     "name": "stdout",
     "output_type": "stream",
     "text": [
      "Number of articles retrieved from comm_use: 9118\n"
     ]
    }
   ],
   "source": [
    "x_dir = 'C:/Users/Renate/Documents/GitHub/Data-Projects/Kaggle - Covid-19/comm_use_subset/comm_use_subset/'\n",
    "filenames = os.listdir(x_dir)\n",
    "print(\"Number of articles retrieved from comm_use:\", len(filenames))"
   ]
  },
  {
   "cell_type": "code",
   "execution_count": 5,
   "metadata": {},
   "outputs": [],
   "source": [
    "all_files = []\n",
    "\n",
    "for filename in filenames:\n",
    "    filename = x_dir + filename\n",
    "    file = json.load(open(filename, 'rb'))\n",
    "    all_files.append(file)"
   ]
  },
  {
   "cell_type": "code",
   "execution_count": 6,
   "metadata": {},
   "outputs": [
    {
     "name": "stdout",
     "output_type": "stream",
     "text": [
      "Dictionary keys: dict_keys(['paper_id', 'metadata', 'abstract', 'body_text', 'bib_entries', 'ref_entries', 'back_matter'])\n"
     ]
    }
   ],
   "source": [
    "file = all_files[0]\n",
    "print(\"Dictionary keys:\", file.keys())"
   ]
  },
  {
   "cell_type": "markdown",
   "metadata": {},
   "source": [
    "## Comm_use: Abstract\n",
    "the abstract dictionary is fairly simple"
   ]
  },
  {
   "cell_type": "code",
   "execution_count": 7,
   "metadata": {},
   "outputs": [
    {
     "name": "stdout",
     "output_type": "stream",
     "text": [
      "[]\n"
     ]
    }
   ],
   "source": [
    "pprint(file['abstract'])"
   ]
  },
  {
   "cell_type": "markdown",
   "metadata": {},
   "source": [
    "## Comm_use: body text\n",
    "Let's try to find out how the body_text dictionary looks like"
   ]
  },
  {
   "cell_type": "code",
   "execution_count": 8,
   "metadata": {},
   "outputs": [
    {
     "name": "stdout",
     "output_type": "stream",
     "text": [
      "body_text type: <class 'list'>\n",
      "body_text length: 1\n",
      "body_text keys: dict_keys(['text', 'cite_spans', 'ref_spans', 'section'])\n"
     ]
    }
   ],
   "source": [
    "print(\"body_text type:\", type(file['body_text']))\n",
    "print(\"body_text length:\", len(file['body_text']))\n",
    "print(\"body_text keys:\", file['body_text'][0].keys())"
   ]
  },
  {
   "cell_type": "code",
   "execution_count": 9,
   "metadata": {},
   "outputs": [
    {
     "name": "stdout",
     "output_type": "stream",
     "text": [
      "dict_keys(['title', 'authors'])\n"
     ]
    }
   ],
   "source": [
    "print(all_files[0]['metadata'].keys())"
   ]
  },
  {
   "cell_type": "code",
   "execution_count": 10,
   "metadata": {},
   "outputs": [
    {
     "name": "stdout",
     "output_type": "stream",
     "text": [
      "Supplementary Information An eco-epidemiological study of Morbilli-related paramyxovirus infection in Madagascar bats reveals host-switching as the dominant macro-evolutionary mechanism\n"
     ]
    }
   ],
   "source": [
    "print(all_files[0]['metadata']['title'])"
   ]
  },
  {
   "cell_type": "code",
   "execution_count": 11,
   "metadata": {},
   "outputs": [
    {
     "name": "stdout",
     "output_type": "stream",
     "text": [
      "[{'affiliation': {},\n",
      "  'email': '',\n",
      "  'first': 'Elisabetta',\n",
      "  'last': 'Padovan',\n",
      "  'middle': [],\n",
      "  'suffix': ''},\n",
      " {'affiliation': {},\n",
      "  'email': '',\n",
      "  'first': 'Marina',\n",
      "  'last': 'Cella',\n",
      "  'middle': [],\n",
      "  'suffix': ''},\n",
      " {'affiliation': {},\n",
      "  'email': '',\n",
      "  'first': 'Shahram',\n",
      "  'last': 'Salek-Ardakani',\n",
      "  'middle': [],\n",
      "  'suffix': ''},\n",
      " {'affiliation': {'institution': '',\n",
      "                  'laboratory': 'Istituto Nazionale di Genetica Molecolare '\n",
      "                                '\"Romeo ed Enrica Invernizzi\" (INGM)',\n",
      "                  'location': {'country': 'Italy', 'settlement': 'Milan'}},\n",
      "  'email': 'geginat@ingm.org',\n",
      "  'first': 'Jens',\n",
      "  'last': 'Geginat',\n",
      "  'middle': [],\n",
      "  'suffix': ''}]\n"
     ]
    }
   ],
   "source": [
    "authors = all_files[1]['metadata']['authors']\n",
    "pprint(authors[:4])"
   ]
  },
  {
   "cell_type": "code",
   "execution_count": 12,
   "metadata": {},
   "outputs": [
    {
     "name": "stdout",
     "output_type": "stream",
     "text": [
      "['']\n"
     ]
    }
   ],
   "source": [
    "texts = [(di['section'], di['text']) for di in file['body_text']]\n",
    "texts_di = {di['section']: \"\" for di in file['body_text']}\n",
    "for section, text in texts:\n",
    "    texts_di[section] += text\n",
    "\n",
    "pprint(list(texts_di.keys()))"
   ]
  },
  {
   "cell_type": "code",
   "execution_count": 13,
   "metadata": {},
   "outputs": [
    {
     "name": "stdout",
     "output_type": "stream",
     "text": [
      "\n",
      "\n",
      "- Figure S1 : Phylogeny of all sequences belonging to the UMRV phylogroup. - Table S4 : Bats cytochrome b sequences data set. -Table S5 : Test of host-parasite co-evolution using global fit methods ParaFit. Figure S1 . Phylogeny of all sequences belonging to the UMRV phylogroup. A global phylogeny of 308 partial L-gene sequences calculated in 10,000,000 iterations in MrBayes with the GTR + G + I evolutionary model and a 10% burn-in rooted with an Aquaparamyxovirus sequence (GenBank number EF646380). All Malagasy bat paramyxoviruses sequences obtained within this study fell within group of Unclassified Morbillivirus-Related viruses. Genbank accession numbers used for each virus genera are indicated in Table S6 . \n",
      "\n",
      "\n"
     ]
    }
   ],
   "source": [
    "body = \"\"\n",
    "\n",
    "for section, text in texts_di.items():\n",
    "    body += section\n",
    "    body += \"\\n\\n\"\n",
    "    body += text\n",
    "    body += \"\\n\\n\"\n",
    "\n",
    "print(body[:3000])"
   ]
  },
  {
   "cell_type": "code",
   "execution_count": 14,
   "metadata": {},
   "outputs": [
    {
     "name": "stdout",
     "output_type": "stream",
     "text": [
      "[{'affiliation': {},\n",
      "  'email': '',\n",
      "  'first': 'Elisabetta',\n",
      "  'last': 'Padovan',\n",
      "  'middle': [],\n",
      "  'suffix': ''},\n",
      " {'affiliation': {},\n",
      "  'email': '',\n",
      "  'first': 'Marina',\n",
      "  'last': 'Cella',\n",
      "  'middle': [],\n",
      "  'suffix': ''},\n",
      " {'affiliation': {},\n",
      "  'email': '',\n",
      "  'first': 'Shahram',\n",
      "  'last': 'Salek-Ardakani',\n",
      "  'middle': [],\n",
      "  'suffix': ''}]\n"
     ]
    }
   ],
   "source": [
    "\n",
    "authors = all_files[1]['metadata']['authors']\n",
    "pprint(authors[:3])\n"
   ]
  },
  {
   "cell_type": "code",
   "execution_count": 15,
   "metadata": {},
   "outputs": [
    {
     "name": "stdout",
     "output_type": "stream",
     "text": [
      "Name: Elisabetta Padovan\n",
      "Affiliation: \n",
      "\n",
      "Name: Marina Cella\n",
      "Affiliation: \n",
      "\n",
      "Name: Shahram Salek-Ardakani\n",
      "Affiliation: \n",
      "\n",
      "Name: Jens Geginat\n",
      "Affiliation: Milan, Italy\n",
      "\n",
      "Name: Giulia Nizzoli\n",
      "Affiliation: Milan, Italy\n",
      "\n",
      "Name: Moira Paroni\n",
      "Affiliation: Milan, Italy\n",
      "\n",
      "Name: Stefano Maglie\n",
      "Affiliation: Milan, Italy\n",
      "\n",
      "Name: Paola Larghi\n",
      "Affiliation: Milan, Italy\n",
      "\n",
      "Name: Steve Pascolo\n",
      "Affiliation: University Hospital of Zurich, Zurich, Switzerland\n",
      "\n",
      "Name: Sergio Abrignani\n",
      "Affiliation: Milan, Italy\n",
      "\n"
     ]
    }
   ],
   "source": [
    "for author in authors:\n",
    "    print(\"Name:\", format_name(author))\n",
    "    print(\"Affiliation:\", format_affiliation(author['affiliation']))\n",
    "    print()"
   ]
  },
  {
   "cell_type": "code",
   "execution_count": 16,
   "metadata": {},
   "outputs": [
    {
     "name": "stdout",
     "output_type": "stream",
     "text": [
      "{'authors': [{'affiliation': {'institution': 'Tufts University',\n",
      "                              'laboratory': '',\n",
      "                              'location': {...}},\n",
      "              'email': '',\n",
      "              'first': 'Molly',\n",
      "              'last': 'Hodul',\n",
      "              'middle': [],\n",
      "              'suffix': ''},\n",
      "             {'affiliation': {'institution': 'Western Washington University',\n",
      "                              'laboratory': '',\n",
      "                              'location': {...}},\n",
      "              'email': '',\n",
      "              'first': 'Caroline',\n",
      "              'last': 'Dahlberg',\n",
      "              'middle': ['L'],\n",
      "              'suffix': ''},\n",
      "             {'affiliation': {'institution': 'Tufts University',\n",
      "                              'laboratory': '',\n",
      "                              'location': {...}},\n",
      "              'email': 'peter.juo@tufts.edu',\n",
      "              'first': 'Peter',\n",
      "              'last': 'Juo',\n",
      "              'middle': [],\n",
      "              'suffix': ''},\n",
      "             {'affiliation': {},\n",
      "              'email': '',\n",
      "              'first': 'Clive',\n",
      "              'last': 'Bramham',\n",
      "              'middle': ['R'],\n",
      "              'suffix': ''},\n",
      "             {'affiliation': {},\n",
      "              'email': '',\n",
      "              'first': 'Carlos',\n",
      "              'last': 'Duarte',\n",
      "              'middle': ['B'],\n",
      "              'suffix': ''},\n",
      "             {'affiliation': {},\n",
      "              'email': '',\n",
      "              'first': 'Angela',\n",
      "              'last': 'Mabb',\n",
      "              'middle': ['M'],\n",
      "              'suffix': ''},\n",
      "             {'affiliation': {},\n",
      "              'email': '',\n",
      "              'first': 'Ivan',\n",
      "              'last': 'Salazar',\n",
      "              'middle': [],\n",
      "              'suffix': ''}],\n",
      " 'title': 'MINI REVIEW Function of the Deubiquitinating Enzyme USP46 in the '\n",
      "          'Nervous System and Its Regulation by WD40-Repeat Proteins'}\n"
     ]
    }
   ],
   "source": [
    "pprint(all_files[4]['metadata'], depth=4)"
   ]
  },
  {
   "cell_type": "code",
   "execution_count": 17,
   "metadata": {},
   "outputs": [
    {
     "name": "stdout",
     "output_type": "stream",
     "text": [
      "Formatting without affiliation:\n",
      "Molly Hodul, Caroline L Dahlberg, Peter Juo, Clive R Bramham, Carlos B Duarte, Angela M Mabb, Ivan Salazar\n",
      "\n",
      "Formatting with affiliation:\n",
      "Molly Hodul (Tufts University, Boston, MA, United States), Caroline L Dahlberg (Western Washington University, Bellingham, WA, United States), Peter Juo (Tufts University, Boston, MA, United States), Clive R Bramham, Carlos B Duarte, Angela M Mabb, Ivan Salazar\n"
     ]
    }
   ],
   "source": [
    "authors = all_files[4]['metadata']['authors']\n",
    "print(\"Formatting without affiliation:\")\n",
    "print(format_authors(authors, with_affiliation=False))\n",
    "print(\"\\nFormatting with affiliation:\")\n",
    "print(format_authors(authors, with_affiliation=True))"
   ]
  },
  {
   "cell_type": "code",
   "execution_count": 18,
   "metadata": {},
   "outputs": [
    {
     "name": "stdout",
     "output_type": "stream",
     "text": [
      "[{'authors': [],\n",
      "  'issn': '',\n",
      "  'other_ids': {},\n",
      "  'pages': '',\n",
      "  'ref_id': 'b32',\n",
      "  'title': 'NDV/HQ266603/Chicken/1992',\n",
      "  'venue': '',\n",
      "  'volume': '',\n",
      "  'year': None},\n",
      " {'authors': [],\n",
      "  'issn': '',\n",
      "  'other_ids': {},\n",
      "  'pages': '',\n",
      "  'ref_id': 'b43',\n",
      "  'title': 'MuV/FJ375177/Human/1987',\n",
      "  'venue': '',\n",
      "  'volume': '',\n",
      "  'year': None}]\n"
     ]
    }
   ],
   "source": [
    "bibs = list(file['bib_entries'].values())\n",
    "pprint(bibs[:2], depth=4)"
   ]
  },
  {
   "cell_type": "code",
   "execution_count": 19,
   "metadata": {},
   "outputs": [
    {
     "data": {
      "text/plain": [
       "''"
      ]
     },
     "execution_count": 19,
     "metadata": {},
     "output_type": "execute_result"
    }
   ],
   "source": [
    "format_authors(bibs[1]['authors'], with_affiliation=False)"
   ]
  },
  {
   "cell_type": "code",
   "execution_count": 20,
   "metadata": {},
   "outputs": [
    {
     "name": "stdout",
     "output_type": "stream",
     "text": [
      "NDV/HQ266603/Chicken/1992, , , None; MuV/FJ375177/Human/1987, , , None; HeV/HM044321/Horse/2007, , , None; NDV/FJ751918/Chicken/1979, , , None; APMV4/EU877976/Duck/2006, , , None\n"
     ]
    }
   ],
   "source": [
    "bib_formatted = format_bib(bibs[:5])\n",
    "print(bib_formatted)"
   ]
  },
  {
   "cell_type": "code",
   "execution_count": 21,
   "metadata": {},
   "outputs": [
    {
     "name": "stderr",
     "output_type": "stream",
     "text": [
      "100%|█████████████████████████████████████████████████████████████████████████████| 9118/9118 [00:34<00:00, 264.29it/s]\n"
     ]
    }
   ],
   "source": [
    "cleaned_files = []\n",
    "\n",
    "for file in tqdm(all_files):\n",
    "    features = [\n",
    "        file['paper_id'],\n",
    "        file['metadata']['title'],\n",
    "        format_authors(file['metadata']['authors']),\n",
    "        format_authors(file['metadata']['authors'], \n",
    "                       with_affiliation=True),\n",
    "        format_body(file['abstract']),\n",
    "        format_body(file['body_text']),\n",
    "        format_bib(file['bib_entries']),\n",
    "        file['metadata']['authors'],\n",
    "        file['bib_entries']\n",
    "    ]\n",
    "    \n",
    "    cleaned_files.append(features)"
   ]
  },
  {
   "cell_type": "code",
   "execution_count": 22,
   "metadata": {},
   "outputs": [
    {
     "data": {
      "text/html": [
       "<div>\n",
       "<style scoped>\n",
       "    .dataframe tbody tr th:only-of-type {\n",
       "        vertical-align: middle;\n",
       "    }\n",
       "\n",
       "    .dataframe tbody tr th {\n",
       "        vertical-align: top;\n",
       "    }\n",
       "\n",
       "    .dataframe thead th {\n",
       "        text-align: right;\n",
       "    }\n",
       "</style>\n",
       "<table border=\"1\" class=\"dataframe\">\n",
       "  <thead>\n",
       "    <tr style=\"text-align: right;\">\n",
       "      <th></th>\n",
       "      <th>paper_id</th>\n",
       "      <th>title</th>\n",
       "      <th>authors</th>\n",
       "      <th>affiliations</th>\n",
       "      <th>abstract</th>\n",
       "      <th>text</th>\n",
       "      <th>bibliography</th>\n",
       "      <th>raw_authors</th>\n",
       "      <th>raw_bibliography</th>\n",
       "    </tr>\n",
       "  </thead>\n",
       "  <tbody>\n",
       "    <tr>\n",
       "      <th>0</th>\n",
       "      <td>000b7d1517ceebb34e1e3e817695b6de03e2fa78</td>\n",
       "      <td>Supplementary Information An eco-epidemiologic...</td>\n",
       "      <td>Julien Mélade, Nicolas Wieseke 4#, Beza Ramazi...</td>\n",
       "      <td>Julien Mélade (2 rue Maxime Rivière, 97490 Sai...</td>\n",
       "      <td></td>\n",
       "      <td>\\n\\n- Figure S1 : Phylogeny of all sequences b...</td>\n",
       "      <td>NDV/HQ266603/Chicken/1992, , , None; MuV/FJ375...</td>\n",
       "      <td>[{'first': 'Julien', 'middle': [], 'last': 'Mé...</td>\n",
       "      <td>{'BIBREF32': {'ref_id': 'b32', 'title': 'NDV/H...</td>\n",
       "    </tr>\n",
       "    <tr>\n",
       "      <th>1</th>\n",
       "      <td>00142f93c18b07350be89e96372d240372437ed9</td>\n",
       "      <td>immunity to pathogens taught by specialized hu...</td>\n",
       "      <td>Elisabetta Padovan, Marina Cella, Shahram Sale...</td>\n",
       "      <td>Elisabetta Padovan, Marina Cella, Shahram Sale...</td>\n",
       "      <td>Abstract\\n\\nDendritic cells (DCs) are speciali...</td>\n",
       "      <td>\\n\\niNTRODUCTiON Human beings are constantly e...</td>\n",
       "      <td>The dendritic cell system and its role in immu...</td>\n",
       "      <td>[{'first': 'Elisabetta', 'middle': [], 'last':...</td>\n",
       "      <td>{'BIBREF0': {'ref_id': 'b0', 'title': 'The den...</td>\n",
       "    </tr>\n",
       "    <tr>\n",
       "      <th>2</th>\n",
       "      <td>0022796bb2112abd2e6423ba2d57751db06049fb</td>\n",
       "      <td>Public Health Responses to and Challenges for ...</td>\n",
       "      <td>Elvina Viennet, Scott A Ritchie, Craig R Willi...</td>\n",
       "      <td>Elvina Viennet (The Australian National Univer...</td>\n",
       "      <td>Abstract\\n\\nDengue has a negative impact in lo...</td>\n",
       "      <td>Introduction\\n\\nPathogens and vectors can now ...</td>\n",
       "      <td>The global distribution and burden of dengue, ...</td>\n",
       "      <td>[{'first': 'Elvina', 'middle': [], 'last': 'Vi...</td>\n",
       "      <td>{'BIBREF0': {'ref_id': 'b0', 'title': 'The glo...</td>\n",
       "    </tr>\n",
       "    <tr>\n",
       "      <th>3</th>\n",
       "      <td>00326efcca0852dc6e39dc6b7786267e1bc4f194</td>\n",
       "      <td>a section of the journal Frontiers in Pediatri...</td>\n",
       "      <td>Jan Hau Lee, Oguz Dursun, Phuc Huu Phan, Yek K...</td>\n",
       "      <td>Jan Hau Lee, Oguz Dursun, Phuc Huu Phan, Yek K...</td>\n",
       "      <td>Abstract\\n\\nFifteen years ago, United Nations ...</td>\n",
       "      <td>\\n\\nIn addition to preventative care and nutri...</td>\n",
       "      <td>Global, regional, and national levels of neona...</td>\n",
       "      <td>[{'first': 'Jan', 'middle': ['Hau'], 'last': '...</td>\n",
       "      <td>{'BIBREF0': {'ref_id': 'b0', 'title': 'Global,...</td>\n",
       "    </tr>\n",
       "    <tr>\n",
       "      <th>4</th>\n",
       "      <td>00352a58c8766861effed18a4b079d1683fec2ec</td>\n",
       "      <td>MINI REVIEW Function of the Deubiquitinating E...</td>\n",
       "      <td>Molly Hodul, Caroline L Dahlberg, Peter Juo, C...</td>\n",
       "      <td>Molly Hodul (Tufts University, Boston, MA, Uni...</td>\n",
       "      <td>Abstract\\n\\nPosttranslational modification of ...</td>\n",
       "      <td>INTRODUCTION\\n\\nUbiquitination is a widely use...</td>\n",
       "      <td>Regulation of AMPA receptor trafficking and sy...</td>\n",
       "      <td>[{'first': 'Molly', 'middle': [], 'last': 'Hod...</td>\n",
       "      <td>{'BIBREF0': {'ref_id': 'b0', 'title': 'Regulat...</td>\n",
       "    </tr>\n",
       "  </tbody>\n",
       "</table>\n",
       "</div>"
      ],
      "text/plain": [
       "                                   paper_id  \\\n",
       "0  000b7d1517ceebb34e1e3e817695b6de03e2fa78   \n",
       "1  00142f93c18b07350be89e96372d240372437ed9   \n",
       "2  0022796bb2112abd2e6423ba2d57751db06049fb   \n",
       "3  00326efcca0852dc6e39dc6b7786267e1bc4f194   \n",
       "4  00352a58c8766861effed18a4b079d1683fec2ec   \n",
       "\n",
       "                                               title  \\\n",
       "0  Supplementary Information An eco-epidemiologic...   \n",
       "1  immunity to pathogens taught by specialized hu...   \n",
       "2  Public Health Responses to and Challenges for ...   \n",
       "3  a section of the journal Frontiers in Pediatri...   \n",
       "4  MINI REVIEW Function of the Deubiquitinating E...   \n",
       "\n",
       "                                             authors  \\\n",
       "0  Julien Mélade, Nicolas Wieseke 4#, Beza Ramazi...   \n",
       "1  Elisabetta Padovan, Marina Cella, Shahram Sale...   \n",
       "2  Elvina Viennet, Scott A Ritchie, Craig R Willi...   \n",
       "3  Jan Hau Lee, Oguz Dursun, Phuc Huu Phan, Yek K...   \n",
       "4  Molly Hodul, Caroline L Dahlberg, Peter Juo, C...   \n",
       "\n",
       "                                        affiliations  \\\n",
       "0  Julien Mélade (2 rue Maxime Rivière, 97490 Sai...   \n",
       "1  Elisabetta Padovan, Marina Cella, Shahram Sale...   \n",
       "2  Elvina Viennet (The Australian National Univer...   \n",
       "3  Jan Hau Lee, Oguz Dursun, Phuc Huu Phan, Yek K...   \n",
       "4  Molly Hodul (Tufts University, Boston, MA, Uni...   \n",
       "\n",
       "                                            abstract  \\\n",
       "0                                                      \n",
       "1  Abstract\\n\\nDendritic cells (DCs) are speciali...   \n",
       "2  Abstract\\n\\nDengue has a negative impact in lo...   \n",
       "3  Abstract\\n\\nFifteen years ago, United Nations ...   \n",
       "4  Abstract\\n\\nPosttranslational modification of ...   \n",
       "\n",
       "                                                text  \\\n",
       "0  \\n\\n- Figure S1 : Phylogeny of all sequences b...   \n",
       "1  \\n\\niNTRODUCTiON Human beings are constantly e...   \n",
       "2  Introduction\\n\\nPathogens and vectors can now ...   \n",
       "3  \\n\\nIn addition to preventative care and nutri...   \n",
       "4  INTRODUCTION\\n\\nUbiquitination is a widely use...   \n",
       "\n",
       "                                        bibliography  \\\n",
       "0  NDV/HQ266603/Chicken/1992, , , None; MuV/FJ375...   \n",
       "1  The dendritic cell system and its role in immu...   \n",
       "2  The global distribution and burden of dengue, ...   \n",
       "3  Global, regional, and national levels of neona...   \n",
       "4  Regulation of AMPA receptor trafficking and sy...   \n",
       "\n",
       "                                         raw_authors  \\\n",
       "0  [{'first': 'Julien', 'middle': [], 'last': 'Mé...   \n",
       "1  [{'first': 'Elisabetta', 'middle': [], 'last':...   \n",
       "2  [{'first': 'Elvina', 'middle': [], 'last': 'Vi...   \n",
       "3  [{'first': 'Jan', 'middle': ['Hau'], 'last': '...   \n",
       "4  [{'first': 'Molly', 'middle': [], 'last': 'Hod...   \n",
       "\n",
       "                                    raw_bibliography  \n",
       "0  {'BIBREF32': {'ref_id': 'b32', 'title': 'NDV/H...  \n",
       "1  {'BIBREF0': {'ref_id': 'b0', 'title': 'The den...  \n",
       "2  {'BIBREF0': {'ref_id': 'b0', 'title': 'The glo...  \n",
       "3  {'BIBREF0': {'ref_id': 'b0', 'title': 'Global,...  \n",
       "4  {'BIBREF0': {'ref_id': 'b0', 'title': 'Regulat...  "
      ]
     },
     "execution_count": 22,
     "metadata": {},
     "output_type": "execute_result"
    }
   ],
   "source": [
    "col_names = [\n",
    "    'paper_id', \n",
    "    'title', \n",
    "    'authors',\n",
    "    'affiliations', \n",
    "    'abstract', \n",
    "    'text', \n",
    "    'bibliography',\n",
    "    'raw_authors',\n",
    "    'raw_bibliography'\n",
    "]\n",
    "\n",
    "clean_df = pd.DataFrame(cleaned_files, columns=col_names)\n",
    "clean_df.head()"
   ]
  },
  {
   "cell_type": "code",
   "execution_count": 23,
   "metadata": {},
   "outputs": [],
   "source": [
    "clean_df.to_csv('C:/Users/Renate/Documents/GitHub/Data-Projects/Kaggle - Covid-19/comm_use_clean.csv', index=False)"
   ]
  },
  {
   "cell_type": "code",
   "execution_count": null,
   "metadata": {},
   "outputs": [],
   "source": []
  }
 ],
 "metadata": {
  "kernelspec": {
   "display_name": "Python 3",
   "language": "python",
   "name": "python3"
  },
  "language_info": {
   "codemirror_mode": {
    "name": "ipython",
    "version": 3
   },
   "file_extension": ".py",
   "mimetype": "text/x-python",
   "name": "python",
   "nbconvert_exporter": "python",
   "pygments_lexer": "ipython3",
   "version": "3.7.3"
  }
 },
 "nbformat": 4,
 "nbformat_minor": 2
}
