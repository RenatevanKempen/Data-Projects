{
 "cells": [
  {
   "cell_type": "markdown",
   "metadata": {},
   "source": [
    "# COVID-19 Workbook\n",
    "In this Workbook, I will try to replicate some graphs others have made. \n",
    "Example from Tarun Paparaju (in Kaggle)"
   ]
  },
  {
   "cell_type": "markdown",
   "metadata": {},
   "source": [
    "## Install and import libraries"
   ]
  },
  {
   "cell_type": "code",
   "execution_count": 1,
   "metadata": {},
   "outputs": [],
   "source": [
    "!pip install -q pycountry"
   ]
  },
  {
   "cell_type": "code",
   "execution_count": 3,
   "metadata": {},
   "outputs": [
    {
     "name": "stdout",
     "output_type": "stream",
     "text": [
      "Collecting folium\n",
      "  Downloading https://files.pythonhosted.org/packages/fd/a0/ccb3094026649cda4acd55bf2c3822bb8c277eb11446d13d384e5be35257/folium-0.10.1-py2.py3-none-any.whl (91kB)\n",
      "Requirement already satisfied: requests in c:\\users\\renate\\anaconda3\\anaconda\\lib\\site-packages (from folium) (2.21.0)\n",
      "Requirement already satisfied: jinja2>=2.9 in c:\\users\\renate\\anaconda3\\anaconda\\lib\\site-packages (from folium) (2.10)\n",
      "Collecting branca>=0.3.0 (from folium)\n",
      "  Downloading https://files.pythonhosted.org/packages/81/6d/31c83485189a2521a75b4130f1fee5364f772a0375f81afff619004e5237/branca-0.4.0-py3-none-any.whl\n",
      "Requirement already satisfied: numpy in c:\\users\\renate\\anaconda3\\anaconda\\lib\\site-packages (from folium) (1.16.2)\n",
      "Requirement already satisfied: idna<2.9,>=2.5 in c:\\users\\renate\\anaconda3\\anaconda\\lib\\site-packages (from requests->folium) (2.8)\n",
      "Requirement already satisfied: urllib3<1.25,>=1.21.1 in c:\\users\\renate\\anaconda3\\anaconda\\lib\\site-packages (from requests->folium) (1.24.1)\n",
      "Requirement already satisfied: chardet<3.1.0,>=3.0.2 in c:\\users\\renate\\anaconda3\\anaconda\\lib\\site-packages (from requests->folium) (3.0.4)\n",
      "Requirement already satisfied: certifi>=2017.4.17 in c:\\users\\renate\\anaconda3\\anaconda\\lib\\site-packages (from requests->folium) (2019.11.28)\n",
      "Requirement already satisfied: MarkupSafe>=0.23 in c:\\users\\renate\\anaconda3\\anaconda\\lib\\site-packages (from jinja2>=2.9->folium) (1.1.1)\n",
      "Requirement already satisfied: six in c:\\users\\renate\\anaconda3\\anaconda\\lib\\site-packages (from branca>=0.3.0->folium) (1.12.0)\n",
      "Installing collected packages: branca, folium\n",
      "Successfully installed branca-0.4.0 folium-0.10.1\n"
     ]
    }
   ],
   "source": [
    "!pip install folium"
   ]
  },
  {
   "cell_type": "code",
   "execution_count": 4,
   "metadata": {},
   "outputs": [],
   "source": [
    "import os\n",
    "import gc\n",
    "import re\n",
    "import folium\n",
    "from scipy import stats\n",
    "\n",
    "import warnings\n",
    "warnings.filterwarnings(\"ignore\")\n",
    "\n",
    "import math\n",
    "import numpy as np\n",
    "import scipy as sp\n",
    "import pandas as pd\n",
    "\n",
    "import pycountry\n",
    "from sklearn import metrics\n",
    "from sklearn.utils import shuffle\n",
    "from gensim.models import Word2Vec\n",
    "from sklearn.cluster import KMeans\n",
    "from sklearn.decomposition import PCA\n",
    "\n",
    "import nltk\n",
    "from textblob import TextBlob\n",
    "from wordcloud import WordCloud\n",
    "from nltk.corpus import wordnet\n",
    "from nltk.corpus import stopwords\n",
    "from nltk import WordNetLemmatizer\n",
    "from nltk.stem import WordNetLemmatizer\n",
    "from nltk.sentiment.vader import SentimentIntensityAnalyzer\n",
    "\n",
    "import random\n",
    "import networkx as nx\n",
    "from pandas import Timestamp\n",
    "\n",
    "import requests\n",
    "from IPython.display import HTML"
   ]
  },
  {
   "cell_type": "code",
   "execution_count": 6,
   "metadata": {},
   "outputs": [
    {
     "name": "stdout",
     "output_type": "stream",
     "text": [
      "Collecting plotly\n",
      "  Downloading https://files.pythonhosted.org/packages/f5/c3/03a183b94441da857e7d2b0564cb482bd15824dc1af2d2b337ea6e538c8f/plotly-4.5.4-py2.py3-none-any.whl (7.1MB)\n",
      "Collecting retrying>=1.3.3 (from plotly)\n",
      "  Downloading https://files.pythonhosted.org/packages/44/ef/beae4b4ef80902f22e3af073397f079c96969c69b2c7d52a57ea9ae61c9d/retrying-1.3.3.tar.gz\n",
      "Requirement already satisfied: six in c:\\users\\renate\\anaconda3\\anaconda\\lib\\site-packages (from plotly) (1.12.0)\n",
      "Building wheels for collected packages: retrying\n",
      "  Building wheel for retrying (setup.py): started\n",
      "  Building wheel for retrying (setup.py): finished with status 'done'\n",
      "  Stored in directory: C:\\Users\\Renate\\AppData\\Local\\pip\\Cache\\wheels\\d7\\a9\\33\\acc7b709e2a35caa7d4cae442f6fe6fbf2c43f80823d46460c\n",
      "Successfully built retrying\n",
      "Installing collected packages: retrying, plotly\n",
      "Successfully installed plotly-4.5.4 retrying-1.3.3\n"
     ]
    }
   ],
   "source": [
    "!pip install plotly"
   ]
  },
  {
   "cell_type": "code",
   "execution_count": 7,
   "metadata": {},
   "outputs": [
    {
     "name": "stdout",
     "output_type": "stream",
     "text": [
      "env: PYTHONHASHSEED=0\n"
     ]
    }
   ],
   "source": [
    "import seaborn as sns\n",
    "from tqdm import tqdm\n",
    "import matplotlib.cm as cm\n",
    "import matplotlib.pyplot as plt\n",
    "\n",
    "import plotly.express as px\n",
    "import plotly.graph_objects as go\n",
    "import plotly.figure_factory as ff\n",
    "from plotly.subplots import make_subplots\n",
    "\n",
    "tqdm.pandas()\n",
    "np.random.seed(0)\n",
    "%env PYTHONHASHSEED=0\n",
    "\n",
    "import warnings\n",
    "warnings.filterwarnings(\"ignore\")"
   ]
  },
  {
   "cell_type": "code",
   "execution_count": 9,
   "metadata": {},
   "outputs": [
    {
     "name": "stdout",
     "output_type": "stream",
     "text": [
      "Requirement already satisfied: tqdm in c:\\users\\renate\\anaconda3\\anaconda\\lib\\site-packages (4.31.1)\n"
     ]
    }
   ],
   "source": [
    "!pip install tqdm"
   ]
  },
  {
   "cell_type": "code",
   "execution_count": 11,
   "metadata": {},
   "outputs": [],
   "source": [
    "#First clean the JSON files from biorxiv according to xhlulu (EDA, parse JSON and generate clean CSV)\n",
    "import os\n",
    "import json\n",
    "from pprint import pprint\n",
    "from copy import deepcopy\n",
    "\n",
    "import numpy as np\n",
    "import pandas as pd\n",
    "#from tqdm.notebook import tqdm\n",
    "import tqdm"
   ]
  },
  {
   "cell_type": "markdown",
   "metadata": {},
   "source": [
    "Unhide the cell below to find the definition of the following functions:\n",
    "\n",
    "- format_name(author)\n",
    "- format_affiliation(affiliation)\n",
    "- format_authors(authors, with_affiliation=False)\n",
    "- format_body(body_text)\n",
    "- format_bib(bibs)"
   ]
  },
  {
   "cell_type": "code",
   "execution_count": 12,
   "metadata": {},
   "outputs": [],
   "source": [
    "def format_name(author):\n",
    "    middle_name = \" \".join(author['middle'])\n",
    "    \n",
    "    if author['middle']:\n",
    "        return \" \".join([author['first'], middle_name, author['last']])\n",
    "    else:\n",
    "        return \" \".join([author['first'], author['last']])\n",
    "\n",
    "\n",
    "def format_affiliation(affiliation):\n",
    "    text = []\n",
    "    location = affiliation.get('location')\n",
    "    if location:\n",
    "        text.extend(list(affiliation['location'].values()))\n",
    "    \n",
    "    institution = affiliation.get('institution')\n",
    "    if institution:\n",
    "        text = [institution] + text\n",
    "    return \", \".join(text)\n",
    "\n",
    "def format_authors(authors, with_affiliation=False):\n",
    "    name_ls = []\n",
    "    \n",
    "    for author in authors:\n",
    "        name = format_name(author)\n",
    "        if with_affiliation:\n",
    "            affiliation = format_affiliation(author['affiliation'])\n",
    "            if affiliation:\n",
    "                name_ls.append(f\"{name} ({affiliation})\")\n",
    "            else:\n",
    "                name_ls.append(name)\n",
    "        else:\n",
    "            name_ls.append(name)\n",
    "    \n",
    "    return \", \".join(name_ls)\n",
    "\n",
    "def format_body(body_text):\n",
    "    texts = [(di['section'], di['text']) for di in body_text]\n",
    "    texts_di = {di['section']: \"\" for di in body_text}\n",
    "    \n",
    "    for section, text in texts:\n",
    "        texts_di[section] += text\n",
    "\n",
    "    body = \"\"\n",
    "\n",
    "    for section, text in texts_di.items():\n",
    "        body += section\n",
    "        body += \"\\n\\n\"\n",
    "        body += text\n",
    "        body += \"\\n\\n\"\n",
    "    \n",
    "    return body\n",
    "\n",
    "def format_bib(bibs):\n",
    "    if type(bibs) == dict:\n",
    "        bibs = list(bibs.values())\n",
    "    bibs = deepcopy(bibs)\n",
    "    formatted = []\n",
    "    \n",
    "    for bib in bibs:\n",
    "        bib['authors'] = format_authors(\n",
    "            bib['authors'], \n",
    "            with_affiliation=False\n",
    "        )\n",
    "        formatted_ls = [str(bib[k]) for k in ['title', 'authors', 'venue', 'year']]\n",
    "        formatted.append(\", \".join(formatted_ls))\n",
    "\n",
    "    return \"; \".join(formatted)"
   ]
  },
  {
   "cell_type": "markdown",
   "metadata": {},
   "source": [
    "Unhide the cell below to find the definition of the following functions:\n",
    "\n",
    "- load_files(dirname)\n",
    "- generate_clean_df(all_files)"
   ]
  },
  {
   "cell_type": "code",
   "execution_count": 13,
   "metadata": {},
   "outputs": [],
   "source": [
    "def load_files(dirname):\n",
    "    filenames = os.listdir(dirname)\n",
    "    raw_files = []\n",
    "\n",
    "    for filename in tqdm(filenames):\n",
    "        filename = dirname + filename\n",
    "        file = json.load(open(filename, 'rb'))\n",
    "        raw_files.append(file)\n",
    "    \n",
    "    return raw_files\n",
    "\n",
    "def generate_clean_df(all_files):\n",
    "    cleaned_files = []\n",
    "    \n",
    "    for file in tqdm(all_files):\n",
    "        features = [\n",
    "            file['paper_id'],\n",
    "            file['metadata']['title'],\n",
    "            format_authors(file['metadata']['authors']),\n",
    "            format_authors(file['metadata']['authors'], \n",
    "                           with_affiliation=True),\n",
    "            format_body(file['abstract']),\n",
    "            format_body(file['body_text']),\n",
    "            format_bib(file['bib_entries']),\n",
    "            file['metadata']['authors'],\n",
    "            file['bib_entries']\n",
    "        ]\n",
    "\n",
    "        cleaned_files.append(features)\n",
    "\n",
    "    col_names = ['paper_id', 'title', 'authors',\n",
    "                 'affiliations', 'abstract', 'text', \n",
    "                 'bibliography','raw_authors','raw_bibliography']\n",
    "\n",
    "    clean_df = pd.DataFrame(cleaned_files, columns=col_names)\n",
    "    clean_df.head()\n",
    "    \n",
    "    return clean_df"
   ]
  },
  {
   "cell_type": "markdown",
   "metadata": {},
   "source": [
    "C:\\Users\\Renate\\Documents\\GitHub\\Data-Projects\\Kaggle - Covid-19\\biorxiv_medrxiv\\biorxiv_medrxiv"
   ]
  },
  {
   "cell_type": "markdown",
   "metadata": {},
   "source": [
    "## Biorxiv: Exploration\n",
    "Let's first take a quick glance at the biorxiv subset of the data. We will also use this opportunity to load all of the json files into a list of nested dictionaries (each dict is an article)."
   ]
  },
  {
   "cell_type": "code",
   "execution_count": 17,
   "metadata": {},
   "outputs": [
    {
     "name": "stdout",
     "output_type": "stream",
     "text": [
      "Number of articles retrieved from biorxiv: 885\n"
     ]
    }
   ],
   "source": [
    "biorxiv_dir = 'C:/Users/Renate/Documents/GitHub/Data-Projects/Kaggle - Covid-19/biorxiv_medrxiv/biorxiv_medrxiv/'\n",
    "filenames = os.listdir(biorxiv_dir)\n",
    "print(\"Number of articles retrieved from biorxiv:\", len(filenames))"
   ]
  },
  {
   "cell_type": "code",
   "execution_count": 18,
   "metadata": {},
   "outputs": [],
   "source": [
    "all_files = []\n",
    "\n",
    "for filename in filenames:\n",
    "    filename = biorxiv_dir + filename\n",
    "    file = json.load(open(filename, 'rb'))\n",
    "    all_files.append(file)"
   ]
  },
  {
   "cell_type": "code",
   "execution_count": 19,
   "metadata": {},
   "outputs": [
    {
     "name": "stdout",
     "output_type": "stream",
     "text": [
      "Dictionary keys: dict_keys(['paper_id', 'metadata', 'abstract', 'body_text', 'bib_entries', 'ref_entries', 'back_matter'])\n"
     ]
    }
   ],
   "source": [
    "file = all_files[0]\n",
    "print(\"Dictionary keys:\", file.keys())"
   ]
  },
  {
   "cell_type": "markdown",
   "metadata": {},
   "source": [
    "## Biorxiv: Abstract\n",
    "the abstract dictionary is fairly simple"
   ]
  },
  {
   "cell_type": "code",
   "execution_count": 21,
   "metadata": {},
   "outputs": [
    {
     "name": "stdout",
     "output_type": "stream",
     "text": [
      "[{'cite_spans': [],\n",
      "  'ref_spans': [],\n",
      "  'section': 'Abstract',\n",
      "  'text': 'word count: 194 22 Text word count: 5168 23 24 25 author/funder. '\n",
      "          'All rights reserved. No reuse allowed without permission. Abstract '\n",
      "          '27 The positive stranded RNA genomes of picornaviruses comprise a '\n",
      "          'single large open reading 28 frame flanked by 5′ and 3′ '\n",
      "          'untranslated regions (UTRs). Foot-and-mouth disease virus (FMDV) 29 '\n",
      "          'has an unusually large 5′ UTR (1.3 kb) containing five structural '\n",
      "          'domains. These include the 30 internal ribosome entry site (IRES), '\n",
      "          'which facilitates initiation of translation, and the cis-acting 31 '\n",
      "          'replication element (cre). Less well characterised structures are a '\n",
      "          '5′ terminal 360 nucleotide 32 stem-loop, a variable length '\n",
      "          'poly-C-tract of approximately 100-200 nucleotides and a series of '\n",
      "          '33 two to four tandemly repeated pseudoknots (PKs). We investigated '\n",
      "          'the structures of the PKs 34 by selective 2′ hydroxyl acetylation '\n",
      "          'analysed by primer extension (SHAPE) analysis and 35 determined '\n",
      "          'their contribution to genome replication by mutation and deletion '\n",
      "          'experiments. 36 SHAPE and mutation experiments confirmed the '\n",
      "          'importance of the previously predicted PK 37 structures for their '\n",
      "          'function. Deletion experiments showed that although PKs are not '\n",
      "          'essential 38'},\n",
      " {'cite_spans': [],\n",
      "  'ref_spans': [],\n",
      "  'section': 'Abstract',\n",
      "  'text': 'for replication, they provide genomes with a competitive advantage. '\n",
      "          'However, although 39 replicons and full-length genomes lacking all '\n",
      "          'PKs were replication competent, no infectious 40 virus was rescued '\n",
      "          'from genomes containing less than one PK copy. This is consistent '\n",
      "          'with our 41 earlier report describing the presence of putative '\n",
      "          'packaging signals in the PK region. 42 43 author/funder. All rights '\n",
      "          'reserved. No reuse allowed without permission.'}]\n"
     ]
    }
   ],
   "source": [
    "pprint(file['abstract'])"
   ]
  },
  {
   "cell_type": "markdown",
   "metadata": {},
   "source": [
    "## Biorxiv: body text\n",
    "Let's try to find out how the body_text dictionary looks like"
   ]
  },
  {
   "cell_type": "code",
   "execution_count": 22,
   "metadata": {},
   "outputs": [
    {
     "name": "stdout",
     "output_type": "stream",
     "text": [
      "body_text type: <class 'list'>\n",
      "body_text length: 20\n",
      "body_text keys: dict_keys(['text', 'cite_spans', 'ref_spans', 'section'])\n"
     ]
    }
   ],
   "source": [
    "print(\"body_text type:\", type(file['body_text']))\n",
    "print(\"body_text length:\", len(file['body_text']))\n",
    "print(\"body_text keys:\", file['body_text'][0].keys())"
   ]
  },
  {
   "cell_type": "code",
   "execution_count": 23,
   "metadata": {},
   "outputs": [
    {
     "name": "stdout",
     "output_type": "stream",
     "text": [
      "dict_keys(['title', 'authors'])\n"
     ]
    }
   ],
   "source": [
    "print(all_files[0]['metadata'].keys())"
   ]
  },
  {
   "cell_type": "code",
   "execution_count": 24,
   "metadata": {},
   "outputs": [
    {
     "name": "stdout",
     "output_type": "stream",
     "text": [
      "The RNA pseudoknots in foot-and-mouth disease virus are dispensable for genome replication but essential for the production of infectious virus. 2 3\n"
     ]
    }
   ],
   "source": [
    "print(all_files[0]['metadata']['title'])"
   ]
  },
  {
   "cell_type": "code",
   "execution_count": 36,
   "metadata": {},
   "outputs": [
    {
     "name": "stdout",
     "output_type": "stream",
     "text": [
      "[{'affiliation': {'institution': 'City University of Hong Kong',\n",
      "                  'laboratory': '',\n",
      "                  'location': {'country': 'China', 'settlement': 'Hong Kong'}},\n",
      "  'email': '',\n",
      "  'first': 'Hanchu',\n",
      "  'last': 'Zhou',\n",
      "  'middle': [],\n",
      "  'suffix': ''},\n",
      " {'affiliation': {'institution': 'City University of Hong Kong',\n",
      "                  'laboratory': '',\n",
      "                  'location': {'country': 'China', 'settlement': 'Hong Kong'}},\n",
      "  'email': '',\n",
      "  'first': 'Jiannan',\n",
      "  'last': 'Yang',\n",
      "  'middle': [],\n",
      "  'suffix': ''},\n",
      " {'affiliation': {'institution': 'City University of Hong Kong',\n",
      "                  'laboratory': '',\n",
      "                  'location': {'country': 'China', 'settlement': 'Hong Kong'}},\n",
      "  'email': '',\n",
      "  'first': 'Kaicheng',\n",
      "  'last': 'Tang',\n",
      "  'middle': [],\n",
      "  'suffix': ''},\n",
      " {'affiliation': {},\n",
      "  'email': '',\n",
      "  'first': '†',\n",
      "  'last': '',\n",
      "  'middle': [],\n",
      "  'suffix': ''}]\n"
     ]
    }
   ],
   "source": [
    "authors = all_files[1]['metadata']['authors']\n",
    "pprint(authors[:4])"
   ]
  },
  {
   "cell_type": "code",
   "execution_count": 37,
   "metadata": {},
   "outputs": [
    {
     "name": "stdout",
     "output_type": "stream",
     "text": [
      "['',\n",
      " '70',\n",
      " '120',\n",
      " '135',\n",
      " '136',\n",
      " '144',\n",
      " '301',\n",
      " 'Function of the PKs in replication is dependent on downstream interactions '\n",
      " 'and 350',\n",
      " '368',\n",
      " '468',\n",
      " '479']\n"
     ]
    }
   ],
   "source": [
    "texts = [(di['section'], di['text']) for di in file['body_text']]\n",
    "texts_di = {di['section']: \"\" for di in file['body_text']}\n",
    "for section, text in texts:\n",
    "    texts_di[section] += text\n",
    "\n",
    "pprint(list(texts_di.keys()))"
   ]
  },
  {
   "cell_type": "code",
   "execution_count": 28,
   "metadata": {},
   "outputs": [
    {
     "name": "stdout",
     "output_type": "stream",
     "text": [
      "\n",
      "\n",
      "VP3, and VP0 (which is further processed to VP2 and VP4 during virus assembly) (6). The P2 64 and P3 regions encode the non-structural proteins 2B and 2C and 3A, 3B (1-3) (VPg), 3C pro and 4 structural protein-coding region is replaced by reporter genes, allow the study of genome 68 replication without the requirement for high containment (9, 10) ( figure 1A ).\n",
      "\n",
      "70\n",
      "\n",
      "The FMDV 5′ UTR is the largest known picornavirus UTR, comprising approximately 1300 71 nucleotides and containing several highly structured regions. The first 360 nucleotides at the 5′ 72 end are predicted to fold into a single large stem loop termed the S-fragment, followed by a The PKs were originally predicted in 1987 and consist of two to four tandem repeats of a ~48 86 nucleotide region containing a small stem loop and downstream interaction site (figure 1B) 87 (12). Due to the sequence similarity between the PKs (figure 1C), it is speculated that they 88 were formed by duplication events during viral replication, probably involving recombination. 89 Between two and four PKs are present in different virus isolates but no strain has been 90 identified with less than two PKs, emphasising their potential importance in the viral life cycle 91 (19, 20) . The presence of PKs has been reported in the 5′ UTR of other picornaviruses such as 92 author/funder. All rights reserved. No reuse allowed without permission. can occur in the absence of PKs at least one is required for wild-type (wt) replication. 104 Furthermore, competition experiments showed that extra copies of PKs conferred a replicative 105 advantage to genomes. Although replicons and full-length genomes lacking PKs were 106 replication-competent, no infectious virus was rescued from genomes containing less than one 107 PK copy. This is consistent with our earlier report describing the presence of putative 108 packaging signals in the PK region (22). 109 110 author/funder. All rights reserved. No reuse allowed without permission. Plasmid construction. 117 The FMDV replicon plasmids, pRep-ptGFP, and the replication-defective polymerase mutant 118 control, 3D-GNN, have already been described (10).\n",
      "\n",
      "120\n",
      "\n",
      "To introduce mutations into the PK region, the pRep-ptGFP replicon plasmid was digested 121 with SpeI and KpnI and the resulting fragment inserted into a sub-cloning vector (pBluescript) 122 to create the pBluescript PK. PKs 3 and 4 were removed by digestion with HindIII and AatII 123 before insertion of a synthetic DNA sequence with PK 3 and 4 deleted. PKs 2, 3 and 4 were 124 deleted by PCR amplification using ΔPK 234 Forward primer and FMDV 1331-1311 reverse 125 primer, the resultant product was digested with HindIII and AatII and ligated into the 126 pBluescript PK vector. Complete PK deletion was achieved by introduction of an AflII site at 127 the 3′ end of the poly-C tract by PCR mutagenesis to create the sub-cloning vector, pBluescript 128 C11, which was then used to remove all the PKs by PCR mutagenesis using ΔPK 1234 f\n"
     ]
    }
   ],
   "source": [
    "body = \"\"\n",
    "\n",
    "for section, text in texts_di.items():\n",
    "    body += section\n",
    "    body += \"\\n\\n\"\n",
    "    body += text\n",
    "    body += \"\\n\\n\"\n",
    "\n",
    "print(body[:3000])"
   ]
  },
  {
   "cell_type": "code",
   "execution_count": 38,
   "metadata": {},
   "outputs": [
    {
     "name": "stdout",
     "output_type": "stream",
     "text": [
      "[{'affiliation': {'institution': 'City University of Hong Kong',\n",
      "                  'laboratory': '',\n",
      "                  'location': {'country': 'China', 'settlement': 'Hong Kong'}},\n",
      "  'email': '',\n",
      "  'first': 'Hanchu',\n",
      "  'last': 'Zhou',\n",
      "  'middle': [],\n",
      "  'suffix': ''},\n",
      " {'affiliation': {'institution': 'City University of Hong Kong',\n",
      "                  'laboratory': '',\n",
      "                  'location': {'country': 'China', 'settlement': 'Hong Kong'}},\n",
      "  'email': '',\n",
      "  'first': 'Jiannan',\n",
      "  'last': 'Yang',\n",
      "  'middle': [],\n",
      "  'suffix': ''},\n",
      " {'affiliation': {'institution': 'City University of Hong Kong',\n",
      "                  'laboratory': '',\n",
      "                  'location': {'country': 'China', 'settlement': 'Hong Kong'}},\n",
      "  'email': '',\n",
      "  'first': 'Kaicheng',\n",
      "  'last': 'Tang',\n",
      "  'middle': [],\n",
      "  'suffix': ''}]\n"
     ]
    }
   ],
   "source": [
    "\n",
    "authors = all_files[1]['metadata']['authors']\n",
    "pprint(authors[:3])\n"
   ]
  },
  {
   "cell_type": "code",
   "execution_count": 39,
   "metadata": {},
   "outputs": [
    {
     "name": "stdout",
     "output_type": "stream",
     "text": [
      "Name: Hanchu Zhou\n",
      "Affiliation: City University of Hong Kong, Hong Kong, China\n",
      "\n",
      "Name: Jiannan Yang\n",
      "Affiliation: City University of Hong Kong, Hong Kong, China\n",
      "\n",
      "Name: Kaicheng Tang\n",
      "Affiliation: City University of Hong Kong, Hong Kong, China\n",
      "\n",
      "Name: † \n",
      "Affiliation: \n",
      "\n",
      "Name: Qingpeng Zhang\n",
      "Affiliation: City University of Hong Kong, Hong Kong, China\n",
      "\n",
      "Name: Zhidong Cao\n",
      "Affiliation: Chinese Academy of Sciences, Beijing, China\n",
      "\n",
      "Name: Dirk Pfeiffer\n",
      "Affiliation: City University of Hong Kong, Hong Kong, China\n",
      "\n",
      "Name: Daniel Dajun Zeng\n",
      "Affiliation: Chinese Academy of Sciences, Beijing, China\n",
      "\n"
     ]
    }
   ],
   "source": [
    "for author in authors:\n",
    "    print(\"Name:\", format_name(author))\n",
    "    print(\"Affiliation:\", format_affiliation(author['affiliation']))\n",
    "    print()"
   ]
  },
  {
   "cell_type": "code",
   "execution_count": 40,
   "metadata": {},
   "outputs": [
    {
     "name": "stdout",
     "output_type": "stream",
     "text": [
      "{'authors': [{'affiliation': {'institution': 'University of Southampton',\n",
      "                              'laboratory': '',\n",
      "                              'location': {...}},\n",
      "              'email': '',\n",
      "              'first': 'Shengjie',\n",
      "              'last': 'Lai',\n",
      "              'middle': [],\n",
      "              'suffix': ''},\n",
      "             {'affiliation': {'institution': 'University of Toronto',\n",
      "                              'laboratory': '',\n",
      "                              'location': {...}},\n",
      "              'email': '',\n",
      "              'first': 'Isaac',\n",
      "              'last': 'Bogoch',\n",
      "              'middle': ['I'],\n",
      "              'suffix': ''},\n",
      "             {'affiliation': {'institution': 'University of Southampton',\n",
      "                              'laboratory': '',\n",
      "                              'location': {...}},\n",
      "              'email': '',\n",
      "              'first': 'Nick',\n",
      "              'last': 'Ruktanonchai',\n",
      "              'middle': ['W'],\n",
      "              'suffix': ''},\n",
      "             {'affiliation': {'institution': \"St. Michael's Hospital\",\n",
      "                              'laboratory': '',\n",
      "                              'location': {...}},\n",
      "              'email': '',\n",
      "              'first': 'Alexander',\n",
      "              'last': 'Watts',\n",
      "              'middle': [],\n",
      "              'suffix': ''},\n",
      "             {'affiliation': {'institution': 'National University of Defense '\n",
      "                                             'Technology',\n",
      "                              'laboratory': '',\n",
      "                              'location': {...}},\n",
      "              'email': '',\n",
      "              'first': 'Xin',\n",
      "              'last': 'Lu',\n",
      "              'middle': [],\n",
      "              'suffix': ''},\n",
      "             {'affiliation': {'institution': 'Chinese Academy of Medical '\n",
      "                                             'Sciences & Peking Union Medical '\n",
      "                                             'College',\n",
      "                              'laboratory': '',\n",
      "                              'location': {}},\n",
      "              'email': '',\n",
      "              'first': 'Weizhong',\n",
      "              'last': 'Yang',\n",
      "              'middle': [],\n",
      "              'suffix': ''},\n",
      "             {'affiliation': {'institution': 'Fudan University',\n",
      "                              'laboratory': 'Key Laboratory of Public Health '\n",
      "                                            'Safety',\n",
      "                              'location': {...}},\n",
      "              'email': '',\n",
      "              'first': 'Hongjie',\n",
      "              'last': 'Yu',\n",
      "              'middle': [],\n",
      "              'suffix': ''},\n",
      "             {'affiliation': {'institution': 'University of Toronto',\n",
      "                              'laboratory': '',\n",
      "                              'location': {...}},\n",
      "              'email': '',\n",
      "              'first': 'Kamran',\n",
      "              'last': 'Khan',\n",
      "              'middle': [],\n",
      "              'suffix': ''},\n",
      "             {'affiliation': {'institution': 'University of Southampton',\n",
      "                              'laboratory': '',\n",
      "                              'location': {...}},\n",
      "              'email': '',\n",
      "              'first': 'Andrew',\n",
      "              'last': 'Tatem',\n",
      "              'middle': ['J'],\n",
      "              'suffix': ''}],\n",
      " 'title': 'Assessing spread risk of Wuhan novel coronavirus within and beyond '\n",
      "          'China, January-April 2020: a travel network-based modelling study'}\n"
     ]
    }
   ],
   "source": [
    "pprint(all_files[4]['metadata'], depth=4)"
   ]
  },
  {
   "cell_type": "code",
   "execution_count": 41,
   "metadata": {},
   "outputs": [
    {
     "name": "stdout",
     "output_type": "stream",
     "text": [
      "Formatting without affiliation:\n",
      "Shengjie Lai, Isaac I Bogoch, Nick W Ruktanonchai, Alexander Watts, Xin Lu, Weizhong Yang, Hongjie Yu, Kamran Khan, Andrew J Tatem\n",
      "\n",
      "Formatting with affiliation:\n",
      "Shengjie Lai (University of Southampton, UK), Isaac I Bogoch (University of Toronto, Toronto, Canada), Nick W Ruktanonchai (University of Southampton, UK), Alexander Watts (St. Michael's Hospital, Toronto, Canada), Xin Lu (National University of Defense Technology, Changsha, China), Weizhong Yang (Chinese Academy of Medical Sciences & Peking Union Medical College), Hongjie Yu (Fudan University, Shanghai, China), Kamran Khan (University of Toronto, Toronto, Canada), Andrew J Tatem (University of Southampton, UK)\n"
     ]
    }
   ],
   "source": [
    "authors = all_files[4]['metadata']['authors']\n",
    "print(\"Formatting without affiliation:\")\n",
    "print(format_authors(authors, with_affiliation=False))\n",
    "print(\"\\nFormatting with affiliation:\")\n",
    "print(format_authors(authors, with_affiliation=True))"
   ]
  },
  {
   "cell_type": "code",
   "execution_count": 42,
   "metadata": {},
   "outputs": [
    {
     "name": "stdout",
     "output_type": "stream",
     "text": [
      "[{'authors': [{'first': 'T', 'last': 'Jackson', 'middle': [], 'suffix': ''},\n",
      "              {'first': 'T', 'last': 'Tuthill', 'middle': [...], 'suffix': ''},\n",
      "              {'first': 'D', 'last': 'Rowlands', 'middle': [...], 'suffix': ''},\n",
      "              {'first': 'N',\n",
      "               'last': 'Stonehouse',\n",
      "               'middle': [...],\n",
      "               'suffix': ''}],\n",
      "  'issn': '',\n",
      "  'other_ids': {},\n",
      "  'pages': '',\n",
      "  'ref_id': 'b0',\n",
      "  'title': 'Genetic economy in 598 picornaviruses: Foot-and-mouth disease '\n",
      "           'virus replication exploits alternative precursor 599 cleavage '\n",
      "           'pathways',\n",
      "  'venue': 'PLOS Pathog',\n",
      "  'volume': '13',\n",
      "  'year': 2017},\n",
      " {'authors': [{'first': 'N',\n",
      "               'last': 'Sanderson',\n",
      "               'middle': [...],\n",
      "               'suffix': ''},\n",
      "              {'first': 'N', 'last': 'Knowles', 'middle': [...], 'suffix': ''},\n",
      "              {'first': 'D', 'last': 'King', 'middle': [...], 'suffix': ''},\n",
      "              {'first': 'E', 'last': 'Cottam', 'middle': [...], 'suffix': ''}],\n",
      "  'issn': '',\n",
      "  'other_ids': {},\n",
      "  'pages': '',\n",
      "  'ref_id': 'b2',\n",
      "  'title': 'A universal protocol to 602 generate consensus level genome '\n",
      "           'sequences for foot-and-mouth disease virus and other 603 '\n",
      "           'positive-sense polyadenylated RNA viruses using the Illumina MiSeq',\n",
      "  'venue': 'BMC Genomics',\n",
      "  'volume': '604',\n",
      "  'year': 2014}]\n"
     ]
    }
   ],
   "source": [
    "bibs = list(file['bib_entries'].values())\n",
    "pprint(bibs[:2], depth=4)"
   ]
  },
  {
   "cell_type": "code",
   "execution_count": 43,
   "metadata": {},
   "outputs": [
    {
     "data": {
      "text/plain": [
       "'N D Sanderson, N J Knowles, D P King, E M Cottam'"
      ]
     },
     "execution_count": 43,
     "metadata": {},
     "output_type": "execute_result"
    }
   ],
   "source": [
    "format_authors(bibs[1]['authors'], with_affiliation=False)"
   ]
  },
  {
   "cell_type": "code",
   "execution_count": 44,
   "metadata": {},
   "outputs": [
    {
     "name": "stdout",
     "output_type": "stream",
     "text": [
      "Genetic economy in 598 picornaviruses: Foot-and-mouth disease virus replication exploits alternative precursor 599 cleavage pathways, T Jackson, T J Tuthill, D J Rowlands, N J Stonehouse, PLOS Pathog, 2017; A universal protocol to 602 generate consensus level genome sequences for foot-and-mouth disease virus and other 603 positive-sense polyadenylated RNA viruses using the Illumina MiSeq, N D Sanderson, N J Knowles, D P King, E M Cottam, BMC Genomics, 2014; Library preparation for highly accurate population 606 sequencing of RNA viruses, A Acevedo, R Andino, Nat Protoc, 2014; IDBA-UD: a de novo assembler for 608 single-cell and metagenomic sequencing data with highly uneven depth, Y Peng, Hcm Leung, S M Yiu, Fyl Chin, , 2012; Basic local alignment 611 search tool, S F Altschul, W Gish, W Miller, E W Myers, D J Lipman, J Mol Biol, 1990\n"
     ]
    }
   ],
   "source": [
    "bib_formatted = format_bib(bibs[:5])\n",
    "print(bib_formatted)"
   ]
  },
  {
   "cell_type": "code",
   "execution_count": 49,
   "metadata": {},
   "outputs": [
    {
     "name": "stdout",
     "output_type": "stream",
     "text": [
      "Collecting tqdm\n",
      "  Downloading https://files.pythonhosted.org/packages/47/55/fd9170ba08a1a64a18a7f8a18f088037316f2a41be04d2fe6ece5a653e8f/tqdm-4.43.0-py2.py3-none-any.whl (59kB)\n",
      "Installing collected packages: tqdm\n",
      "Successfully installed tqdm-4.43.0\n"
     ]
    },
    {
     "name": "stderr",
     "output_type": "stream",
     "text": [
      "WARNING: You are using pip version 19.2.3, however version 20.0.2 is available.\n",
      "You should consider upgrading via the 'python -m pip install --upgrade pip' command.\n"
     ]
    }
   ],
   "source": [
    "! pip3 install tqdm"
   ]
  },
  {
   "cell_type": "code",
   "execution_count": 53,
   "metadata": {},
   "outputs": [
    {
     "name": "stdout",
     "output_type": "stream",
     "text": [
      "Collecting pip\n",
      "  Downloading https://files.pythonhosted.org/packages/54/0c/d01aa759fdc501a58f431eb594a17495f15b88da142ce14b5845662c13f3/pip-20.0.2-py2.py3-none-any.whl (1.4MB)\n",
      "Installing collected packages: pip\n",
      "  Found existing installation: pip 19.0.3\n",
      "    Uninstalling pip-19.0.3:\n",
      "      Successfully uninstalled pip-19.0.3\n"
     ]
    },
    {
     "name": "stderr",
     "output_type": "stream",
     "text": [
      "Could not install packages due to an EnvironmentError: [WinError 5] Access is denied: 'C:\\\\Users\\\\Renate\\\\AppData\\\\Local\\\\Temp\\\\pip-uninstall-rrij6h7c\\\\pip.exe'\n",
      "Consider using the `--user` option or check the permissions.\n",
      "\n"
     ]
    }
   ],
   "source": [
    "! pip install --upgrade pip"
   ]
  },
  {
   "cell_type": "code",
   "execution_count": 54,
   "metadata": {},
   "outputs": [
    {
     "name": "stdout",
     "output_type": "stream",
     "text": [
      "Requirement already up-to-date: pip in c:\\users\\renate\\anaconda3\\anaconda\\lib\\site-packages (20.0.2)\n"
     ]
    }
   ],
   "source": [
    "!pip install pip --upgrade "
   ]
  },
  {
   "cell_type": "code",
   "execution_count": 56,
   "metadata": {},
   "outputs": [],
   "source": [
    "from tqdm import tqdm"
   ]
  },
  {
   "cell_type": "code",
   "execution_count": 57,
   "metadata": {},
   "outputs": [
    {
     "name": "stderr",
     "output_type": "stream",
     "text": [
      "100%|███████████████████████████████████████████████████████████████████████████████| 885/885 [00:01<00:00, 530.98it/s]\n"
     ]
    }
   ],
   "source": [
    "cleaned_files = []\n",
    "\n",
    "for file in tqdm(all_files):\n",
    "    features = [\n",
    "        file['paper_id'],\n",
    "        file['metadata']['title'],\n",
    "        format_authors(file['metadata']['authors']),\n",
    "        format_authors(file['metadata']['authors'], \n",
    "                       with_affiliation=True),\n",
    "        format_body(file['abstract']),\n",
    "        format_body(file['body_text']),\n",
    "        format_bib(file['bib_entries']),\n",
    "        file['metadata']['authors'],\n",
    "        file['bib_entries']\n",
    "    ]\n",
    "    \n",
    "    cleaned_files.append(features)"
   ]
  },
  {
   "cell_type": "code",
   "execution_count": 58,
   "metadata": {},
   "outputs": [
    {
     "data": {
      "text/html": [
       "<div>\n",
       "<style scoped>\n",
       "    .dataframe tbody tr th:only-of-type {\n",
       "        vertical-align: middle;\n",
       "    }\n",
       "\n",
       "    .dataframe tbody tr th {\n",
       "        vertical-align: top;\n",
       "    }\n",
       "\n",
       "    .dataframe thead th {\n",
       "        text-align: right;\n",
       "    }\n",
       "</style>\n",
       "<table border=\"1\" class=\"dataframe\">\n",
       "  <thead>\n",
       "    <tr style=\"text-align: right;\">\n",
       "      <th></th>\n",
       "      <th>paper_id</th>\n",
       "      <th>title</th>\n",
       "      <th>authors</th>\n",
       "      <th>affiliations</th>\n",
       "      <th>abstract</th>\n",
       "      <th>text</th>\n",
       "      <th>bibliography</th>\n",
       "      <th>raw_authors</th>\n",
       "      <th>raw_bibliography</th>\n",
       "    </tr>\n",
       "  </thead>\n",
       "  <tbody>\n",
       "    <tr>\n",
       "      <th>0</th>\n",
       "      <td>0015023cc06b5362d332b3baf348d11567ca2fbb</td>\n",
       "      <td>The RNA pseudoknots in foot-and-mouth disease ...</td>\n",
       "      <td>Joseph C Ward, Lidia Lasecka-Dykes, Chris Neil...</td>\n",
       "      <td>Joseph C Ward, Lidia Lasecka-Dykes, Chris Neil...</td>\n",
       "      <td>Abstract\\n\\nword count: 194 22 Text word count...</td>\n",
       "      <td>\\n\\nVP3, and VP0 (which is further processed t...</td>\n",
       "      <td>Genetic economy in 598 picornaviruses: Foot-an...</td>\n",
       "      <td>[{'first': 'Joseph', 'middle': ['C'], 'last': ...</td>\n",
       "      <td>{'BIBREF0': {'ref_id': 'b0', 'title': 'Genetic...</td>\n",
       "    </tr>\n",
       "    <tr>\n",
       "      <th>1</th>\n",
       "      <td>004f0f8bb66cf446678dc13cf2701feec4f36d76</td>\n",
       "      <td>Healthcare-resource-adjusted vulnerabilities t...</td>\n",
       "      <td>Hanchu Zhou, Jiannan Yang, Kaicheng Tang, † , ...</td>\n",
       "      <td>Hanchu Zhou (City University of Hong Kong, Hon...</td>\n",
       "      <td></td>\n",
       "      <td>Introduction\\n\\nThe 2019-nCoV epidemic has spr...</td>\n",
       "      <td>World Health Organizations. Novel Coronavirus ...</td>\n",
       "      <td>[{'first': 'Hanchu', 'middle': [], 'last': 'Zh...</td>\n",
       "      <td>{'BIBREF0': {'ref_id': 'b0', 'title': 'World H...</td>\n",
       "    </tr>\n",
       "    <tr>\n",
       "      <th>2</th>\n",
       "      <td>00d16927588fb04d4be0e6b269fc02f0d3c2aa7b</td>\n",
       "      <td>Real-time, MinION-based, amplicon sequencing f...</td>\n",
       "      <td>Salman L Butt, Eric C Erwood, Jian Zhang, Holl...</td>\n",
       "      <td>Salman L Butt (University of Georgia, 30602, A...</td>\n",
       "      <td>Abstract\\n\\nInfectious bronchitis (IB) causes ...</td>\n",
       "      <td>Introduction\\n\\nInfectious bronchitis (IB), wh...</td>\n",
       "      <td>Emergence of novel strains of avian infectious...</td>\n",
       "      <td>[{'first': 'Salman', 'middle': ['L'], 'last': ...</td>\n",
       "      <td>{'BIBREF0': {'ref_id': 'b0', 'title': 'Emergen...</td>\n",
       "    </tr>\n",
       "    <tr>\n",
       "      <th>3</th>\n",
       "      <td>0139ea4ca580af99b602c6435368e7fdbefacb03</td>\n",
       "      <td>A Combined Evidence Approach to Prioritize Nip...</td>\n",
       "      <td>Nishi Kumari, Ayush Upadhyay, Kishan Kalia, Ra...</td>\n",
       "      <td>Nishi Kumari (Panjab University, Chandigarh, I...</td>\n",
       "      <td>Abstract\\n\\nNipah Virus (NiV) came into limeli...</td>\n",
       "      <td>Introduction\\n\\nNipah is an infectious negativ...</td>\n",
       "      <td>Molecular biology of Hendra and Nipah viruses,...</td>\n",
       "      <td>[{'first': 'Nishi', 'middle': [], 'last': 'Kum...</td>\n",
       "      <td>{'BIBREF0': {'ref_id': 'b0', 'title': 'Molecul...</td>\n",
       "    </tr>\n",
       "    <tr>\n",
       "      <th>4</th>\n",
       "      <td>013d9d1cba8a54d5d3718c229b812d7cf91b6c89</td>\n",
       "      <td>Assessing spread risk of Wuhan novel coronavir...</td>\n",
       "      <td>Shengjie Lai, Isaac I Bogoch, Nick W Ruktanonc...</td>\n",
       "      <td>Shengjie Lai (University of Southampton, UK), ...</td>\n",
       "      <td>Abstract\\n\\nBackground: A novel coronavirus (2...</td>\n",
       "      <td>Introduction\\n\\nIn December 2019, a cluster of...</td>\n",
       "      <td>A Novel Coronavirus Genome Identified in a Clu...</td>\n",
       "      <td>[{'first': 'Shengjie', 'middle': [], 'last': '...</td>\n",
       "      <td>{'BIBREF0': {'ref_id': 'b0', 'title': 'A Novel...</td>\n",
       "    </tr>\n",
       "  </tbody>\n",
       "</table>\n",
       "</div>"
      ],
      "text/plain": [
       "                                   paper_id  \\\n",
       "0  0015023cc06b5362d332b3baf348d11567ca2fbb   \n",
       "1  004f0f8bb66cf446678dc13cf2701feec4f36d76   \n",
       "2  00d16927588fb04d4be0e6b269fc02f0d3c2aa7b   \n",
       "3  0139ea4ca580af99b602c6435368e7fdbefacb03   \n",
       "4  013d9d1cba8a54d5d3718c229b812d7cf91b6c89   \n",
       "\n",
       "                                               title  \\\n",
       "0  The RNA pseudoknots in foot-and-mouth disease ...   \n",
       "1  Healthcare-resource-adjusted vulnerabilities t...   \n",
       "2  Real-time, MinION-based, amplicon sequencing f...   \n",
       "3  A Combined Evidence Approach to Prioritize Nip...   \n",
       "4  Assessing spread risk of Wuhan novel coronavir...   \n",
       "\n",
       "                                             authors  \\\n",
       "0  Joseph C Ward, Lidia Lasecka-Dykes, Chris Neil...   \n",
       "1  Hanchu Zhou, Jiannan Yang, Kaicheng Tang, † , ...   \n",
       "2  Salman L Butt, Eric C Erwood, Jian Zhang, Holl...   \n",
       "3  Nishi Kumari, Ayush Upadhyay, Kishan Kalia, Ra...   \n",
       "4  Shengjie Lai, Isaac I Bogoch, Nick W Ruktanonc...   \n",
       "\n",
       "                                        affiliations  \\\n",
       "0  Joseph C Ward, Lidia Lasecka-Dykes, Chris Neil...   \n",
       "1  Hanchu Zhou (City University of Hong Kong, Hon...   \n",
       "2  Salman L Butt (University of Georgia, 30602, A...   \n",
       "3  Nishi Kumari (Panjab University, Chandigarh, I...   \n",
       "4  Shengjie Lai (University of Southampton, UK), ...   \n",
       "\n",
       "                                            abstract  \\\n",
       "0  Abstract\\n\\nword count: 194 22 Text word count...   \n",
       "1                                                      \n",
       "2  Abstract\\n\\nInfectious bronchitis (IB) causes ...   \n",
       "3  Abstract\\n\\nNipah Virus (NiV) came into limeli...   \n",
       "4  Abstract\\n\\nBackground: A novel coronavirus (2...   \n",
       "\n",
       "                                                text  \\\n",
       "0  \\n\\nVP3, and VP0 (which is further processed t...   \n",
       "1  Introduction\\n\\nThe 2019-nCoV epidemic has spr...   \n",
       "2  Introduction\\n\\nInfectious bronchitis (IB), wh...   \n",
       "3  Introduction\\n\\nNipah is an infectious negativ...   \n",
       "4  Introduction\\n\\nIn December 2019, a cluster of...   \n",
       "\n",
       "                                        bibliography  \\\n",
       "0  Genetic economy in 598 picornaviruses: Foot-an...   \n",
       "1  World Health Organizations. Novel Coronavirus ...   \n",
       "2  Emergence of novel strains of avian infectious...   \n",
       "3  Molecular biology of Hendra and Nipah viruses,...   \n",
       "4  A Novel Coronavirus Genome Identified in a Clu...   \n",
       "\n",
       "                                         raw_authors  \\\n",
       "0  [{'first': 'Joseph', 'middle': ['C'], 'last': ...   \n",
       "1  [{'first': 'Hanchu', 'middle': [], 'last': 'Zh...   \n",
       "2  [{'first': 'Salman', 'middle': ['L'], 'last': ...   \n",
       "3  [{'first': 'Nishi', 'middle': [], 'last': 'Kum...   \n",
       "4  [{'first': 'Shengjie', 'middle': [], 'last': '...   \n",
       "\n",
       "                                    raw_bibliography  \n",
       "0  {'BIBREF0': {'ref_id': 'b0', 'title': 'Genetic...  \n",
       "1  {'BIBREF0': {'ref_id': 'b0', 'title': 'World H...  \n",
       "2  {'BIBREF0': {'ref_id': 'b0', 'title': 'Emergen...  \n",
       "3  {'BIBREF0': {'ref_id': 'b0', 'title': 'Molecul...  \n",
       "4  {'BIBREF0': {'ref_id': 'b0', 'title': 'A Novel...  "
      ]
     },
     "execution_count": 58,
     "metadata": {},
     "output_type": "execute_result"
    }
   ],
   "source": [
    "col_names = [\n",
    "    'paper_id', \n",
    "    'title', \n",
    "    'authors',\n",
    "    'affiliations', \n",
    "    'abstract', \n",
    "    'text', \n",
    "    'bibliography',\n",
    "    'raw_authors',\n",
    "    'raw_bibliography'\n",
    "]\n",
    "\n",
    "clean_df = pd.DataFrame(cleaned_files, columns=col_names)\n",
    "clean_df.head()"
   ]
  },
  {
   "cell_type": "code",
   "execution_count": 59,
   "metadata": {},
   "outputs": [],
   "source": [
    "clean_df.to_csv('C:/Users/Renate/Documents/GitHub/Data-Projects/Kaggle - Covid-19/biorxiv_clean.csv', index=False)"
   ]
  },
  {
   "cell_type": "code",
   "execution_count": null,
   "metadata": {},
   "outputs": [],
   "source": []
  }
 ],
 "metadata": {
  "kernelspec": {
   "display_name": "Python 3",
   "language": "python",
   "name": "python3"
  },
  "language_info": {
   "codemirror_mode": {
    "name": "ipython",
    "version": 3
   },
   "file_extension": ".py",
   "mimetype": "text/x-python",
   "name": "python",
   "nbconvert_exporter": "python",
   "pygments_lexer": "ipython3",
   "version": "3.7.3"
  }
 },
 "nbformat": 4,
 "nbformat_minor": 2
}
